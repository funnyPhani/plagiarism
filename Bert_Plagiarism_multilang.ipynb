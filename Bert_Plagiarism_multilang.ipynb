{
  "nbformat": 4,
  "nbformat_minor": 0,
  "metadata": {
    "colab": {
      "name": "Bert Plagiarism multilang.ipynb",
      "provenance": [],
      "collapsed_sections": []
    },
    "kernelspec": {
      "name": "python3",
      "display_name": "Python 3"
    },
    "accelerator": "GPU"
  },
  "cells": [
    {
      "cell_type": "code",
      "metadata": {
        "colab": {
          "base_uri": "https://localhost:8080/"
        },
        "id": "_7vPMuOqzvGG",
        "outputId": "505b2547-6c91-4fd0-df9a-8dc965bdafb2"
      },
      "source": [
        "!pip install -q tensorflow==2.3.0"
      ],
      "execution_count": null,
      "outputs": [
        {
          "output_type": "stream",
          "text": [
            "\u001b[K     |████████████████████████████████| 320.4MB 49kB/s \n",
            "\u001b[K     |████████████████████████████████| 20.1MB 1.3MB/s \n",
            "\u001b[K     |████████████████████████████████| 460kB 49.9MB/s \n",
            "\u001b[31mERROR: datascience 0.10.6 has requirement folium==0.2.1, but you'll have folium 0.8.3 which is incompatible.\u001b[0m\n",
            "\u001b[31mERROR: albumentations 0.1.12 has requirement imgaug<0.2.7,>=0.2.5, but you'll have imgaug 0.2.9 which is incompatible.\u001b[0m\n",
            "\u001b[?25h"
          ],
          "name": "stdout"
        }
      ]
    },
    {
      "cell_type": "code",
      "metadata": {
        "colab": {
          "base_uri": "https://localhost:8080/"
        },
        "id": "shmK6j3MWERE",
        "outputId": "877fd387-2b51-4b51-a512-cc146fc1482b"
      },
      "source": [
        "!git clone --depth 1 -b v2.3.0 https://github.com/tensorflow/models.git"
      ],
      "execution_count": null,
      "outputs": [
        {
          "output_type": "stream",
          "text": [
            "Cloning into 'models'...\n",
            "remote: Enumerating objects: 2650, done.\u001b[K\n",
            "remote: Counting objects: 100% (2650/2650), done.\u001b[K\n",
            "remote: Compressing objects: 100% (2311/2311), done.\u001b[K\n",
            "remote: Total 2650 (delta 507), reused 1382 (delta 306), pack-reused 0\u001b[K\n",
            "Receiving objects: 100% (2650/2650), 34.01 MiB | 676.00 KiB/s, done.\n",
            "Resolving deltas: 100% (507/507), done.\n",
            "Note: checking out '400d68abbccda2f0f6609e3a924467718b144233'.\n",
            "\n",
            "You are in 'detached HEAD' state. You can look around, make experimental\n",
            "changes and commit them, and you can discard any commits you make in this\n",
            "state without impacting any branches by performing another checkout.\n",
            "\n",
            "If you want to create a new branch to retain commits you create, you may\n",
            "do so (now or later) by using -b with the checkout command again. Example:\n",
            "\n",
            "  git checkout -b <new-branch-name>\n",
            "\n"
          ],
          "name": "stdout"
        }
      ]
    },
    {
      "cell_type": "code",
      "metadata": {
        "colab": {
          "base_uri": "https://localhost:8080/"
        },
        "id": "QCWXEDaWWHgz",
        "outputId": "5c0e23a2-70cd-4458-fb9a-c845a70a3715"
      },
      "source": [
        "# install requirements to use tensorflow/models repository\r\n",
        "!pip install -Uqr models/official/requirements.txt\r\n",
        "# you may have to restart the runtime afterwards"
      ],
      "execution_count": null,
      "outputs": [
        {
          "output_type": "stream",
          "text": [
            "\u001b[K     |████████████████████████████████| 6.5MB 9.1MB/s \n",
            "\u001b[K     |████████████████████████████████| 225kB 53.3MB/s \n",
            "\u001b[K     |████████████████████████████████| 15.3MB 220kB/s \n",
            "\u001b[K     |████████████████████████████████| 9.9MB 56.4MB/s \n",
            "\u001b[K     |████████████████████████████████| 296kB 58.9MB/s \n",
            "\u001b[K     |████████████████████████████████| 102kB 15.5MB/s \n",
            "\u001b[K     |████████████████████████████████| 27.4MB 94kB/s \n",
            "\u001b[K     |████████████████████████████████| 174kB 52.9MB/s \n",
            "\u001b[K     |████████████████████████████████| 3.7MB 56.3MB/s \n",
            "\u001b[K     |████████████████████████████████| 706kB 46.1MB/s \n",
            "\u001b[K     |████████████████████████████████| 358kB 56.0MB/s \n",
            "\u001b[K     |████████████████████████████████| 1.2MB 54.8MB/s \n",
            "\u001b[K     |████████████████████████████████| 11.6MB 218kB/s \n",
            "\u001b[K     |████████████████████████████████| 37.6MB 81kB/s \n",
            "\u001b[K     |████████████████████████████████| 645kB 54.1MB/s \n",
            "\u001b[K     |████████████████████████████████| 2.2MB 51.7MB/s \n",
            "\u001b[K     |████████████████████████████████| 51kB 7.7MB/s \n",
            "\u001b[K     |████████████████████████████████| 81kB 12.0MB/s \n",
            "\u001b[?25h  Building wheel for py-cpuinfo (setup.py) ... \u001b[?25l\u001b[?25hdone\n",
            "\u001b[31mERROR: tensorflow 2.3.0 has requirement numpy<1.19.0,>=1.16.0, but you'll have numpy 1.20.1 which is incompatible.\u001b[0m\n",
            "\u001b[31mERROR: tensorflow 2.3.0 has requirement scipy==1.4.1, but you'll have scipy 1.6.1 which is incompatible.\u001b[0m\n",
            "\u001b[31mERROR: pandas-gbq 0.13.3 has requirement google-cloud-bigquery[bqstorage,pandas]<2.0.0dev,>=1.11.1, but you'll have google-cloud-bigquery 2.11.0 which is incompatible.\u001b[0m\n",
            "\u001b[31mERROR: jaxlib 0.1.60+cuda110 has requirement numpy<1.20,>=1.12, but you'll have numpy 1.20.1 which is incompatible.\u001b[0m\n",
            "\u001b[31mERROR: google-colab 1.0.0 has requirement pandas~=1.1.0; python_version >= \"3.0\", but you'll have pandas 1.2.3 which is incompatible.\u001b[0m\n",
            "\u001b[31mERROR: google-cloud-storage 1.18.1 has requirement google-resumable-media<0.5.0dev,>=0.3.1, but you'll have google-resumable-media 1.2.0 which is incompatible.\u001b[0m\n",
            "\u001b[31mERROR: datascience 0.10.6 has requirement folium==0.2.1, but you'll have folium 0.8.3 which is incompatible.\u001b[0m\n",
            "\u001b[31mERROR: albumentations 0.1.12 has requirement imgaug<0.2.7,>=0.2.5, but you'll have imgaug 0.2.9 which is incompatible.\u001b[0m\n"
          ],
          "name": "stdout"
        }
      ]
    },
    {
      "cell_type": "markdown",
      "metadata": {
        "id": "m9KdgLIH4YMz"
      },
      "source": [
        "Restart runtime"
      ]
    },
    {
      "cell_type": "code",
      "metadata": {
        "id": "yaYu-3EpTGHw"
      },
      "source": [
        "import numpy as np\r\n",
        "import pandas as pd\r\n",
        "import tensorflow as tf\r\n",
        "import tensorflow_hub as hub\r\n",
        "import sys\r\n",
        "sys.path.append('models')\r\n",
        "from official.nlp.data import classifier_data_lib\r\n",
        "from official.nlp.bert import tokenization\r\n",
        "from official.nlp import optimization"
      ],
      "execution_count": null,
      "outputs": []
    },
    {
      "cell_type": "code",
      "metadata": {
        "colab": {
          "base_uri": "https://localhost:8080/"
        },
        "id": "JXXddh8ZTZ43",
        "outputId": "87a5ee5b-be8e-48ea-f554-fa2bdd952052"
      },
      "source": [
        "print(\"TF Version: \", tf.__version__)\r\n",
        "print(\"Keras Version: \", tf.keras.__version__)\r\n",
        "print(\"Eager mode: \", tf.executing_eagerly())\r\n",
        "print(\"Hub version: \", hub.__version__)\r\n",
        "print(\"GPU is\", \"available\" if tf.config.experimental.list_physical_devices(\"GPU\") else \"NOT AVAILABLE\")"
      ],
      "execution_count": null,
      "outputs": [
        {
          "output_type": "stream",
          "text": [
            "TF Version:  2.3.0\n",
            "Keras Version:  2.4.0\n",
            "Eager mode:  True\n",
            "Hub version:  0.11.0\n",
            "GPU is available\n"
          ],
          "name": "stdout"
        }
      ]
    },
    {
      "cell_type": "code",
      "metadata": {
        "colab": {
          "base_uri": "https://localhost:8080/"
        },
        "id": "lEpScHS6LRjJ",
        "outputId": "8572e02a-04a9-4f8d-c741-59d6a016412a"
      },
      "source": [
        "from google.colab import drive\r\n",
        "drive.mount('/content/gdrive')"
      ],
      "execution_count": null,
      "outputs": [
        {
          "output_type": "stream",
          "text": [
            "Mounted at /content/gdrive\n"
          ],
          "name": "stdout"
        }
      ]
    },
    {
      "cell_type": "code",
      "metadata": {
        "colab": {
          "base_uri": "https://localhost:8080/"
        },
        "id": "9xyQfAVfKM5k",
        "outputId": "b60e63af-3481-452d-a435-ec43dceee3a4"
      },
      "source": [
        "import nltk\n",
        "\n",
        "hypothesis = ['жінка', 'вигулює', 'з', 'рюкзаком']\n",
        "reference = ['жінка', 'прогулюється', 'з', 'рюкзаком']\n",
        "#there may be several references\n",
        "BLEUscore = nltk.translate.bleu_score.sentence_bleu([reference], hypothesis)\n",
        "print(BLEUscore)\n",
        "\n",
        "hypothesis = ['двоє', 'чоловіків', 'які', 'займаються', 'єдиноборствами']\n",
        "reference = ['двоє', 'чоловіків', 'займаються', 'єдиноборствами']\n",
        "#there may be several references\n",
        "BLEUscore = nltk.translate.bleu_score.sentence_bleu([reference], hypothesis)\n",
        "print(BLEUscore)\n",
        "\n",
        "hypothesis = ['двоє', 'чоловіків', 'займаються', 'музикою']\n",
        "reference = ['двоє', 'чоловіків', 'створюють', 'музику']\n",
        "#there may be several references\n",
        "BLEUscore = nltk.translate.bleu_score.sentence_bleu([reference], hypothesis)\n",
        "print(BLEUscore)"
      ],
      "execution_count": null,
      "outputs": [
        {
          "output_type": "stream",
          "text": [
            "0.7071067811865475\n",
            "0.7952707287670506\n",
            "0.6389431042462724\n"
          ],
          "name": "stdout"
        },
        {
          "output_type": "stream",
          "text": [
            "/usr/local/lib/python3.7/dist-packages/nltk/translate/bleu_score.py:490: UserWarning: \n",
            "Corpus/Sentence contains 0 counts of 3-gram overlaps.\n",
            "BLEU scores might be undesirable; use SmoothingFunction().\n",
            "  warnings.warn(_msg)\n"
          ],
          "name": "stderr"
        }
      ]
    },
    {
      "cell_type": "markdown",
      "metadata": {
        "id": "RqtalSiVXD26"
      },
      "source": [
        "Helper methods"
      ]
    },
    {
      "cell_type": "markdown",
      "metadata": {
        "id": "dXiyv4aX4eFX"
      },
      "source": [
        "We'll need to transform our data into a format that BERT understands. This involves two steps. First, we create InputExamples using classifier_data_lib's constructor InputExample provided in the BERT library.\r\n",
        "\r\n",
        "We need to wrap it in a `tf.py_function`. The `tf.py_function` will pass regular tensors (with a value and a `.numpy()` method to access it), to the wrapped python function."
      ]
    },
    {
      "cell_type": "markdown",
      "metadata": {
        "id": "wUTGQMjN4jTA"
      },
      "source": [
        "The resulting `tf.data.Datasets` return `(features, labels)` pairs, as expected by [`keras.Model.fit`](https://www.tensorflow.org/api_docs/python/tf/keras/Model#fit):"
      ]
    },
    {
      "cell_type": "code",
      "metadata": {
        "id": "MbkqzW93XDoT"
      },
      "source": [
        "import matplotlib.pyplot as plt\r\n",
        "import re\r\n",
        "import unicodedata\r\n",
        "\r\n",
        "label_list = [0, 1]\r\n",
        "labels = ['non', 'plagiarism']\r\n",
        "batch_size = 32\r\n",
        "max_seq_length = 128\r\n",
        "\r\n",
        "bert_layer = hub.KerasLayer(\"https://tfhub.dev/tensorflow/bert_multi_cased_L-12_H-768_A-12/3\", trainable=True)\r\n",
        "\r\n",
        "vocab_file = bert_layer.resolved_object.vocab_file.asset_path.numpy()\r\n",
        "do_lower_case = bert_layer.resolved_object.do_lower_case.numpy()\r\n",
        "tokenizer = tokenization.FullTokenizer(vocab_file, do_lower_case)\r\n",
        "\r\n",
        "def plot_graphs(history, metric):\r\n",
        "    plt.plot(history.history[metric])\r\n",
        "    plt.plot(history.history['val_'+metric], '')\r\n",
        "    plt.xlabel(\"Epochs\")\r\n",
        "    plt.ylabel(metric)\r\n",
        "    plt.legend([metric, 'val_'+metric])\r\n",
        "    plt.show()\r\n",
        "\r\n",
        "\r\n",
        "def strip_accents(s):\r\n",
        "   return ''.join(c for c in unicodedata.normalize('NFD', s)\r\n",
        "                  if unicodedata.category(c) != 'Mn')\r\n",
        "\r\n",
        "def process_text(text):\r\n",
        "    text = text if type(text) == str else text.decode(\"utf-8\") \r\n",
        "\r\n",
        "    # remove accents\r\n",
        "    text = strip_accents(text)\r\n",
        "\r\n",
        "    # put text in all lower case letters \r\n",
        "    text = text.lower()\r\n",
        "    # remove stock market tickers like $GE\r\n",
        "    text = re.sub(r'\\$\\w*', '', text)\r\n",
        "    # remove hyperlinks\r\n",
        "    text = re.sub(r'https?:\\/\\/.*[\\r\\n]*', '', text)\r\n",
        "    # remove html special characters (like &nbsp)\r\n",
        "    text = re.sub(r'&\\w+;\\s*', '', text)\r\n",
        "    # remove html tags\r\n",
        "    text = re.sub(r'<[^>]*>', '', text)\r\n",
        "    # remove digits\r\n",
        "    text = re.sub(r'\\d*', '', text)\r\n",
        "    # remove hashtags\r\n",
        "    # only removing the hash # sign from the word\r\n",
        "    text = re.sub(r'#', '', text)\r\n",
        "\r\n",
        "    # remove all non-alphanumeric chars\r\n",
        "    # text = re.sub(r\"[^А-ЩЬЮЯҐЄІЇа-щьюяґєіїa-zA-Z0-9]\", \" \", text)\r\n",
        "    # remove newlines/tabs, etc. so it's easier to match phrases, later\r\n",
        "    text = re.sub(r\"\\t\", \" \", text)\r\n",
        "    text = re.sub(r\"\\n\", \" \", text)\r\n",
        "    text = re.sub(\"  \", \" \", text)\r\n",
        "    text = re.sub(\"   \", \" \", text)\r\n",
        "\r\n",
        "    return text\r\n",
        "\r\n",
        "# This provides a function to convert row to input features and label\r\n",
        "\r\n",
        "def to_feature(text_a, text_b, label, label_list=label_list, max_seq_length=max_seq_length, tokenizer=tokenizer):\r\n",
        "    example = classifier_data_lib.InputExample(guid=None, \r\n",
        "                                              text_a=process_text(text_a.numpy()), \r\n",
        "                                              text_b=process_text(text_b.numpy()), \r\n",
        "                                              label=label.numpy())\r\n",
        "    feature = classifier_data_lib.convert_single_example(0, example, label_list, max_seq_length, tokenizer)\r\n",
        "\r\n",
        "    return (feature.input_ids, feature.input_mask, feature.segment_ids, feature.label_id)\r\n",
        "\r\n",
        "def to_feature_map(text_a, text_b, label):\r\n",
        "    input_ids, input_mask, segment_ids, label_id = tf.py_function(to_feature, inp=[text_a, text_b, label], \r\n",
        "                                                                  Tout=[tf.int32, tf.int32, tf.int32, tf.int32])\r\n",
        "    input_ids.set_shape([max_seq_length])\r\n",
        "    input_mask.set_shape([max_seq_length])\r\n",
        "    segment_ids.set_shape([max_seq_length])\r\n",
        "    label_id.set_shape([])\r\n",
        "\r\n",
        "    x = {\r\n",
        "        'input_word_ids': input_ids,\r\n",
        "        'input_mask': input_mask,\r\n",
        "        'input_type_ids': segment_ids\r\n",
        "    }\r\n",
        "\r\n",
        "    return (x, label_id)\r\n",
        "\r\n",
        "\r\n",
        "# Building the model\r\n",
        "def create_model(base_model, trainable = True, droput = True):\r\n",
        "    # Encoded token ids from BERT tokenizer.\r\n",
        "    input_word_ids = tf.keras.layers.Input(shape=(max_seq_length,), dtype=tf.int32,\r\n",
        "                                        name=\"input_word_ids\")\r\n",
        "    # Attention masks indicates to the model which tokens should be attended to.\r\n",
        "    input_mask = tf.keras.layers.Input(shape=(max_seq_length,), dtype=tf.int32,\r\n",
        "                                    name=\"input_mask\")\r\n",
        "    # Token type ids are binary masks identifying different sequences in the model.\r\n",
        "    input_type_ids = tf.keras.layers.Input(shape=(max_seq_length,), dtype=tf.int32,\r\n",
        "                                    name=\"input_type_ids\")\r\n",
        "    \r\n",
        "    encoder_inputs = dict(\r\n",
        "        input_word_ids=input_word_ids,\r\n",
        "        input_mask=input_mask,\r\n",
        "        input_type_ids=input_type_ids,\r\n",
        "    )\r\n",
        "\r\n",
        "    base_model.trainable = trainable\r\n",
        "\r\n",
        "    if droput:\r\n",
        "        outputs = base_model(encoder_inputs)\r\n",
        "        \r\n",
        "        pooled_output = outputs[\"pooled_output\"]      # [batch_size, 768].\r\n",
        "        sequence_output = outputs[\"sequence_output\"]  # [batch_size, seq_length, 768].\r\n",
        "        \r\n",
        "        drop = tf.keras.layers.Dropout(0.4)(pooled_output)\r\n",
        "        output = tf.keras.layers.Dense(1, activation=\"sigmoid\", name=\"output\")(drop)\r\n",
        "    else:      \r\n",
        "        output = base_model(encoder_inputs)\r\n",
        "    \r\n",
        "    model = tf.keras.Model(\r\n",
        "      inputs={\r\n",
        "        'input_word_ids': input_word_ids,\r\n",
        "        'input_mask': input_mask,\r\n",
        "        'input_type_ids': input_type_ids\r\n",
        "      }, \r\n",
        "      outputs=output)\r\n",
        "    \r\n",
        "    model.compile(optimizer=tf.keras.optimizers.Adam(learning_rate=2e-5),\r\n",
        "                  loss=tf.keras.losses.BinaryCrossentropy(),\r\n",
        "                  metrics=[tf.keras.metrics.BinaryAccuracy()])\r\n",
        "\r\n",
        "    return model\r\n",
        "\r\n",
        "def plot_model(model):\r\n",
        "    display(tf.keras.utils.plot_model(model=model, show_shapes=True, dpi=76))\r\n",
        "\r\n",
        "def data_generator(data, batch_size=batch_size, shuffle=False):\r\n",
        "    with tf.device('/cpu:0'):\r\n",
        "\r\n",
        "        data = data.map(\r\n",
        "            tf.autograph.experimental.do_not_convert(\r\n",
        "                func=to_feature_map\r\n",
        "            ), \r\n",
        "            num_parallel_calls=tf.data.experimental.AUTOTUNE)\r\n",
        "\r\n",
        "        if shuffle:\r\n",
        "            data = data.shuffle(512)\r\n",
        "\r\n",
        "        return (data\r\n",
        "            .batch(batch_size, drop_remainder=True)\r\n",
        "            .prefetch(tf.data.experimental.AUTOTUNE))\r\n",
        "\r\n",
        "def get_test_data(text_a, text_b):\r\n",
        "    # text_a and text_b are slices\r\n",
        "    assert len(text_a) == len(text_b)\r\n",
        "    test_data = tf.data.Dataset.from_tensor_slices((text_a, text_b, [0]*len(text_a)))\r\n",
        "    return data_generator(test_data, batch_size=1)"
      ],
      "execution_count": null,
      "outputs": []
    },
    {
      "cell_type": "markdown",
      "metadata": {
        "id": "6VgTjX5sT3xm"
      },
      "source": [
        "## Load data\r\n",
        "[SNLI courpus](https://nlp.stanford.edu/projects/snli/)\r\n",
        "\r\n",
        "I've translated it to Ukranian and left some English sentances there"
      ]
    },
    {
      "cell_type": "code",
      "metadata": {
        "colab": {
          "base_uri": "https://localhost:8080/"
        },
        "id": "FRNYG-MWTs-t",
        "outputId": "b2d5e89b-57b9-4e9e-d539-b5b1c2360df9"
      },
      "source": [
        "!cp '/content/gdrive/My Drive/translated_data.zip' data.zip\r\n",
        "!unzip data.zip"
      ],
      "execution_count": null,
      "outputs": [
        {
          "output_type": "stream",
          "text": [
            "Archive:  data.zip\n",
            "   creating: data/\n",
            "  inflating: data/test.csv           \n",
            "  inflating: data/train.csv          \n",
            "  inflating: data/valid.csv          \n"
          ],
          "name": "stdout"
        }
      ]
    },
    {
      "cell_type": "code",
      "metadata": {
        "colab": {
          "base_uri": "https://localhost:8080/"
        },
        "id": "i4Sf1cRPT5J2",
        "outputId": "7b959d44-a35a-4cf6-8517-077a0bfc0eda"
      },
      "source": [
        "# There are more than 550k samples in total; we will use 100k for this example.\r\n",
        "train_df = pd.read_csv(\"data/train.csv\", nrows=100000)\r\n",
        "valid_df = pd.read_csv(\"data/valid.csv\")\r\n",
        "test_df = pd.read_csv(\"data/test.csv\")\r\n",
        "\r\n",
        "# Shape of the data\r\n",
        "print(f\"Total train samples : {train_df.shape[0]}\")\r\n",
        "print(f\"Total validation samples: {valid_df.shape[0]}\")\r\n",
        "print(f\"Total test samples: {valid_df.shape[0]}\")\r\n",
        "\r\n",
        "train_df.shape"
      ],
      "execution_count": null,
      "outputs": [
        {
          "output_type": "stream",
          "text": [
            "Total train samples : 100000\n",
            "Total validation samples: 39344\n",
            "Total test samples: 39344\n"
          ],
          "name": "stdout"
        },
        {
          "output_type": "execute_result",
          "data": {
            "text/plain": [
              "(100000, 4)"
            ]
          },
          "metadata": {
            "tags": []
          },
          "execution_count": 5
        }
      ]
    },
    {
      "cell_type": "code",
      "metadata": {
        "colab": {
          "base_uri": "https://localhost:8080/",
          "height": 648
        },
        "id": "tHt8JTDIUAC3",
        "outputId": "345f57fb-81ac-47f4-c0ec-206bcd5c04aa"
      },
      "source": [
        "train_df.tail(20)"
      ],
      "execution_count": null,
      "outputs": [
        {
          "output_type": "execute_result",
          "data": {
            "text/html": [
              "<div>\n",
              "<style scoped>\n",
              "    .dataframe tbody tr th:only-of-type {\n",
              "        vertical-align: middle;\n",
              "    }\n",
              "\n",
              "    .dataframe tbody tr th {\n",
              "        vertical-align: top;\n",
              "    }\n",
              "\n",
              "    .dataframe thead th {\n",
              "        text-align: right;\n",
              "    }\n",
              "</style>\n",
              "<table border=\"1\" class=\"dataframe\">\n",
              "  <thead>\n",
              "    <tr style=\"text-align: right;\">\n",
              "      <th></th>\n",
              "      <th>Unnamed: 0</th>\n",
              "      <th>similarity</th>\n",
              "      <th>sentence1</th>\n",
              "      <th>sentence2</th>\n",
              "    </tr>\n",
              "  </thead>\n",
              "  <tbody>\n",
              "    <tr>\n",
              "      <th>99980</th>\n",
              "      <td>99980</td>\n",
              "      <td>neutral</td>\n",
              "      <td>Teens dressed as Native Americans sit in the p...</td>\n",
              "      <td>teens talking</td>\n",
              "    </tr>\n",
              "    <tr>\n",
              "      <th>99981</th>\n",
              "      <td>99981</td>\n",
              "      <td>neutral</td>\n",
              "      <td>Teens dressed as Native Americans sit in the p...</td>\n",
              "      <td>підлітки говорять</td>\n",
              "    </tr>\n",
              "    <tr>\n",
              "      <th>99982</th>\n",
              "      <td>99982</td>\n",
              "      <td>neutral</td>\n",
              "      <td>Підлітки, одягнені як корінні американці, сидя...</td>\n",
              "      <td>teens talking</td>\n",
              "    </tr>\n",
              "    <tr>\n",
              "      <th>99983</th>\n",
              "      <td>99983</td>\n",
              "      <td>neutral</td>\n",
              "      <td>Підлітки, одягнені як корінні американці, сидя...</td>\n",
              "      <td>підлітки говорять</td>\n",
              "    </tr>\n",
              "    <tr>\n",
              "      <th>99984</th>\n",
              "      <td>99984</td>\n",
              "      <td>neutral</td>\n",
              "      <td>There is a lady walking a lot of dogs and she ...</td>\n",
              "      <td>A dog walker is doing their job.</td>\n",
              "    </tr>\n",
              "    <tr>\n",
              "      <th>99985</th>\n",
              "      <td>99985</td>\n",
              "      <td>neutral</td>\n",
              "      <td>There is a lady walking a lot of dogs and she ...</td>\n",
              "      <td>Кінолог виконує свою роботу.</td>\n",
              "    </tr>\n",
              "    <tr>\n",
              "      <th>99986</th>\n",
              "      <td>99986</td>\n",
              "      <td>neutral</td>\n",
              "      <td>Там леді вигулює багато собак і вона переходит...</td>\n",
              "      <td>A dog walker is doing their job.</td>\n",
              "    </tr>\n",
              "    <tr>\n",
              "      <th>99987</th>\n",
              "      <td>99987</td>\n",
              "      <td>neutral</td>\n",
              "      <td>Там леді вигулює багато собак і вона переходит...</td>\n",
              "      <td>Кінолог виконує свою роботу.</td>\n",
              "    </tr>\n",
              "    <tr>\n",
              "      <th>99988</th>\n",
              "      <td>99988</td>\n",
              "      <td>neutral</td>\n",
              "      <td>A woman walking with a backpack.</td>\n",
              "      <td>A woman is walking to school.</td>\n",
              "    </tr>\n",
              "    <tr>\n",
              "      <th>99989</th>\n",
              "      <td>99989</td>\n",
              "      <td>neutral</td>\n",
              "      <td>A woman walking with a backpack.</td>\n",
              "      <td>Жінка йде до школи.</td>\n",
              "    </tr>\n",
              "    <tr>\n",
              "      <th>99990</th>\n",
              "      <td>99990</td>\n",
              "      <td>neutral</td>\n",
              "      <td>Жінка вигулює з рюкзаком.</td>\n",
              "      <td>A woman is walking to school.</td>\n",
              "    </tr>\n",
              "    <tr>\n",
              "      <th>99991</th>\n",
              "      <td>99991</td>\n",
              "      <td>neutral</td>\n",
              "      <td>Жінка вигулює з рюкзаком.</td>\n",
              "      <td>Жінка йде до школи.</td>\n",
              "    </tr>\n",
              "    <tr>\n",
              "      <th>99992</th>\n",
              "      <td>99992</td>\n",
              "      <td>entailment</td>\n",
              "      <td>Two older ladies in blue shirts are sitting at...</td>\n",
              "      <td>The old ladies are playing a game.</td>\n",
              "    </tr>\n",
              "    <tr>\n",
              "      <th>99993</th>\n",
              "      <td>99993</td>\n",
              "      <td>entailment</td>\n",
              "      <td>Two older ladies in blue shirts are sitting at...</td>\n",
              "      <td>Старенькі грають у гру.</td>\n",
              "    </tr>\n",
              "    <tr>\n",
              "      <th>99994</th>\n",
              "      <td>99994</td>\n",
              "      <td>entailment</td>\n",
              "      <td>Дві старші дами в блакитних сорочках сидять за...</td>\n",
              "      <td>The old ladies are playing a game.</td>\n",
              "    </tr>\n",
              "    <tr>\n",
              "      <th>99995</th>\n",
              "      <td>99995</td>\n",
              "      <td>entailment</td>\n",
              "      <td>Дві старші дами в блакитних сорочках сидять за...</td>\n",
              "      <td>Старенькі грають у гру.</td>\n",
              "    </tr>\n",
              "    <tr>\n",
              "      <th>99996</th>\n",
              "      <td>99996</td>\n",
              "      <td>entailment</td>\n",
              "      <td>A man is pretending to be a judge.</td>\n",
              "      <td>The man is faking being a judge.</td>\n",
              "    </tr>\n",
              "    <tr>\n",
              "      <th>99997</th>\n",
              "      <td>99997</td>\n",
              "      <td>entailment</td>\n",
              "      <td>A man is pretending to be a judge.</td>\n",
              "      <td>Чоловік удає, що є суддею.</td>\n",
              "    </tr>\n",
              "    <tr>\n",
              "      <th>99998</th>\n",
              "      <td>99998</td>\n",
              "      <td>entailment</td>\n",
              "      <td>Чоловік прикидається суддею.</td>\n",
              "      <td>The man is faking being a judge.</td>\n",
              "    </tr>\n",
              "    <tr>\n",
              "      <th>99999</th>\n",
              "      <td>99999</td>\n",
              "      <td>entailment</td>\n",
              "      <td>Чоловік прикидається суддею.</td>\n",
              "      <td>Чоловік удає, що є суддею.</td>\n",
              "    </tr>\n",
              "  </tbody>\n",
              "</table>\n",
              "</div>"
            ],
            "text/plain": [
              "       Unnamed: 0  ...                           sentence2\n",
              "99980       99980  ...                       teens talking\n",
              "99981       99981  ...                   підлітки говорять\n",
              "99982       99982  ...                       teens talking\n",
              "99983       99983  ...                   підлітки говорять\n",
              "99984       99984  ...    A dog walker is doing their job.\n",
              "99985       99985  ...        Кінолог виконує свою роботу.\n",
              "99986       99986  ...    A dog walker is doing their job.\n",
              "99987       99987  ...        Кінолог виконує свою роботу.\n",
              "99988       99988  ...       A woman is walking to school.\n",
              "99989       99989  ...                 Жінка йде до школи.\n",
              "99990       99990  ...       A woman is walking to school.\n",
              "99991       99991  ...                 Жінка йде до школи.\n",
              "99992       99992  ...  The old ladies are playing a game.\n",
              "99993       99993  ...             Старенькі грають у гру.\n",
              "99994       99994  ...  The old ladies are playing a game.\n",
              "99995       99995  ...             Старенькі грають у гру.\n",
              "99996       99996  ...    The man is faking being a judge.\n",
              "99997       99997  ...          Чоловік удає, що є суддею.\n",
              "99998       99998  ...    The man is faking being a judge.\n",
              "99999       99999  ...          Чоловік удає, що є суддею.\n",
              "\n",
              "[20 rows x 4 columns]"
            ]
          },
          "metadata": {
            "tags": []
          },
          "execution_count": 6
        }
      ]
    },
    {
      "cell_type": "code",
      "metadata": {
        "colab": {
          "base_uri": "https://localhost:8080/"
        },
        "id": "yyNYRCDeUFMW",
        "outputId": "8e439419-9904-40ce-968e-e434ddb5fe16"
      },
      "source": [
        "print(f\"Sentence1: {train_df.loc[1, 'sentence1']}\")\r\n",
        "print(f\"Sentence2: {train_df.loc[1, 'sentence2']}\")\r\n",
        "print(f\"Similarity: {train_df.loc[1, 'similarity']}\")"
      ],
      "execution_count": null,
      "outputs": [
        {
          "output_type": "stream",
          "text": [
            "Sentence1: A group of workers are posing for a picture.\n",
            "Sentence2: Група робітників грає в бейсбол.\n",
            "Similarity: contradiction\n"
          ],
          "name": "stdout"
        }
      ]
    },
    {
      "cell_type": "code",
      "metadata": {
        "colab": {
          "base_uri": "https://localhost:8080/"
        },
        "id": "dxeOIscVUGlO",
        "outputId": "e659209e-8d37-4db5-bc8f-a44105ac0e73"
      },
      "source": [
        "# We have some NaN entries in our train data, we will simply drop them.\r\n",
        "print(\"Number of missing values\")\r\n",
        "print(train_df.isnull().sum())\r\n",
        "train_df.dropna(axis=0, inplace=True)"
      ],
      "execution_count": null,
      "outputs": [
        {
          "output_type": "stream",
          "text": [
            "Number of missing values\n",
            "Unnamed: 0    0\n",
            "similarity    0\n",
            "sentence1     0\n",
            "sentence2     0\n",
            "dtype: int64\n"
          ],
          "name": "stdout"
        }
      ]
    },
    {
      "cell_type": "code",
      "metadata": {
        "colab": {
          "base_uri": "https://localhost:8080/"
        },
        "id": "BD2badqpUH4W",
        "outputId": "7f5e0529-3b8d-45a7-8cf7-cf9cd8018d41"
      },
      "source": [
        "print(\"Train Target Distribution\")\r\n",
        "print(train_df.similarity.value_counts())"
      ],
      "execution_count": null,
      "outputs": [
        {
          "output_type": "stream",
          "text": [
            "Train Target Distribution\n",
            "entailment       33592\n",
            "contradiction    33228\n",
            "neutral          33180\n",
            "Name: similarity, dtype: int64\n"
          ],
          "name": "stdout"
        }
      ]
    },
    {
      "cell_type": "code",
      "metadata": {
        "colab": {
          "base_uri": "https://localhost:8080/"
        },
        "id": "ZyVOmDJFUJYG",
        "outputId": "1d36e232-16d3-4200-92fb-017e91e80f22"
      },
      "source": [
        "print(\"Validation Target Distribution\")\r\n",
        "print(valid_df.similarity.value_counts())"
      ],
      "execution_count": null,
      "outputs": [
        {
          "output_type": "stream",
          "text": [
            "Validation Target Distribution\n",
            "entailment       13304\n",
            "contradiction    13100\n",
            "neutral          12940\n",
            "Name: similarity, dtype: int64\n"
          ],
          "name": "stdout"
        }
      ]
    },
    {
      "cell_type": "code",
      "metadata": {
        "id": "B-1QLy33UKiO"
      },
      "source": [
        "train_df = (\r\n",
        "    train_df[train_df.similarity != \"-\"]\r\n",
        "    .sample(frac=1.0, random_state=42)\r\n",
        "    .reset_index(drop=True)\r\n",
        ")\r\n",
        "valid_df = (\r\n",
        "    valid_df[valid_df.similarity != \"-\"]\r\n",
        "    .sample(frac=1.0, random_state=42)\r\n",
        "    .reset_index(drop=True)\r\n",
        ")"
      ],
      "execution_count": null,
      "outputs": []
    },
    {
      "cell_type": "code",
      "metadata": {
        "id": "TgF6uGfKUM6O"
      },
      "source": [
        "train_df[\"label\"] = train_df[\"similarity\"].apply(\r\n",
        "    lambda x: 1 if x == \"entailment\" else 0\r\n",
        ")\r\n",
        "\r\n",
        "valid_df[\"label\"] = valid_df[\"similarity\"].apply(\r\n",
        "    lambda x: 1 if x == \"entailment\" else 0\r\n",
        ")\r\n",
        "\r\n",
        "test_df[\"label\"] = test_df[\"similarity\"].apply(\r\n",
        "    lambda x: 1 if x == \"entailment\" else 0\r\n",
        ")"
      ],
      "execution_count": null,
      "outputs": []
    },
    {
      "cell_type": "code",
      "metadata": {
        "colab": {
          "base_uri": "https://localhost:8080/",
          "height": 298
        },
        "id": "lk0YS8_AUOP-",
        "outputId": "9682db46-085d-4cd8-86aa-e0835a1cb3a1"
      },
      "source": [
        "train_df.label.plot(kind='hist', title='Target distribution')"
      ],
      "execution_count": null,
      "outputs": [
        {
          "output_type": "execute_result",
          "data": {
            "text/plain": [
              "<AxesSubplot:title={'center':'Target distribution'}, ylabel='Frequency'>"
            ]
          },
          "metadata": {
            "tags": []
          },
          "execution_count": 13
        },
        {
          "output_type": "display_data",
          "data": {
            "image/png": "[encoded data removed]",
            "text/plain": [
              "<Figure size 432x288 with 1 Axes>"
            ]
          },
          "metadata": {
            "tags": [],
            "needs_background": "light"
          }
        }
      ]
    },
    {
      "cell_type": "code",
      "metadata": {
        "colab": {
          "base_uri": "https://localhost:8080/",
          "height": 248
        },
        "id": "crZWr730giiz",
        "outputId": "1f20244f-5c62-4d2f-ff5b-f86d5a33c0f5"
      },
      "source": [
        "labels = 'Semantic different', 'Semantic similar'\n",
        "semantic_different_size = train_df.loc[train_df['label'] == 0].count()[\"label\"]\n",
        "semantic_similar_size = train_df.loc[train_df['label'] == 1].count()[\"label\"]\n",
        "sizes = [semantic_different_size, semantic_similar_size]\n",
        "\n",
        "fig1, ax1 = plt.subplots()\n",
        "ax1.pie(sizes, labels=labels, autopct='%1.1f%%',\n",
        "        shadow=False, startangle=90)\n",
        "ax1.axis('equal')  # Equal aspect ratio ensures that pie is drawn as a circle.\n",
        "\n",
        "plt.show()"
      ],
      "execution_count": null,
      "outputs": [
        {
          "output_type": "display_data",
          "data": {
            "image/png": "[encoded data removed]",
            "text/plain": [
              "<Figure size 432x288 with 1 Axes>"
            ]
          },
          "metadata": {
            "tags": []
          }
        }
      ]
    },
    {
      "cell_type": "code",
      "metadata": {
        "colab": {
          "base_uri": "https://localhost:8080/"
        },
        "id": "4tBDYMh3UP4t",
        "outputId": "a9c9817a-7401-4c35-9d84-38049792f89b"
      },
      "source": [
        "with tf.device('/cpu:0'):\r\n",
        "    train_data = tf.data.Dataset.from_tensor_slices(\r\n",
        "        (train_df['sentence1'].values, train_df['sentence2'].values,  train_df['label'].values))\r\n",
        "    valid_data = tf.data.Dataset.from_tensor_slices(\r\n",
        "        (valid_df['sentence1'].values, valid_df['sentence2'].values, valid_df['label'].values))\r\n",
        "\r\n",
        "    for sentence1, sentence2, label in train_data.take(1):\r\n",
        "        print(\"First item in train data:\")\r\n",
        "        print(sentence1)\r\n",
        "        print(sentence2)\r\n",
        "        print(label)\r\n",
        "        \r\n",
        "    for sentence1, sentence2, label in valid_data.take(1):\r\n",
        "        print(\"First item in valid data:\")\r\n",
        "        print(sentence1)\r\n",
        "        print(sentence2)\r\n",
        "        print(label)\r\n",
        "\r\n",
        "    # train\r\n",
        "    train_data = data_generator(train_data, shuffle=True)\r\n",
        "\r\n",
        "    # valid\r\n",
        "    valid_data = data_generator(valid_data) "
      ],
      "execution_count": null,
      "outputs": [
        {
          "output_type": "stream",
          "text": [
            "First item in train data:\n",
            "tf.Tensor(b'A couple is holding their baby at a ceremony while the priest reads his book.', shape=(), dtype=string)\n",
            "tf.Tensor(b'\\xd0\\xb2\\xd0\\xb5\\xd0\\xb4\\xd0\\xb5 \\xd1\\x81\\xd0\\xb2\\xd0\\xbe\\xd1\\x8e \\xd0\\xb4\\xd0\\xb8\\xd1\\x82\\xd0\\xb8\\xd0\\xbd\\xd1\\x83 \\xd0\\xb2 \\xd0\\xb7\\xd0\\xbe\\xd0\\xbe\\xd0\\xbf\\xd0\\xb0\\xd1\\x80\\xd0\\xba', shape=(), dtype=string)\n",
            "tf.Tensor(0, shape=(), dtype=int64)\n",
            "First item in valid data:\n",
            "tf.Tensor(b'A group of people are running in the cold.', shape=(), dtype=string)\n",
            "tf.Tensor(b'\\xd0\\x9a\\xd1\\x83\\xd0\\xbf\\xd0\\xb0 \\xd0\\xbb\\xd1\\x8e\\xd0\\xb4\\xd0\\xb5\\xd0\\xb9, \\xd1\\x89\\xd0\\xbe \\xd1\\x80\\xd1\\x83\\xd1\\x85\\xd0\\xb0\\xd1\\x8e\\xd1\\x82\\xd1\\x8c\\xd1\\x81\\xd1\\x8f \\xd0\\xb6\\xd0\\xb2\\xd0\\xb0\\xd0\\xb2\\xd0\\xbe \\xd0\\xb2 \\xd1\\x85\\xd0\\xbe\\xd0\\xbb\\xd0\\xbe\\xd0\\xb4\\xd0\\xbd\\xd0\\xb8\\xd0\\xb9 \\xd0\\xb4\\xd0\\xb5\\xd0\\xbd\\xd1\\x8c', shape=(), dtype=string)\n",
            "tf.Tensor(1, shape=(), dtype=int64)\n"
          ],
          "name": "stdout"
        }
      ]
    },
    {
      "cell_type": "markdown",
      "metadata": {
        "id": "jIPAeDVGaVoc"
      },
      "source": [
        "The resulting `tf.data.Datasets` return `(features, labels)` pairs, as expected by [`keras.Model.fit`](https://www.tensorflow.org/api_docs/python/tf/keras/Model#fit):"
      ]
    },
    {
      "cell_type": "code",
      "metadata": {
        "colab": {
          "base_uri": "https://localhost:8080/"
        },
        "id": "nZUTDtvPZ4Ew",
        "outputId": "2b0dbf6b-84c7-4120-e435-900af5e344a6"
      },
      "source": [
        "# train data spec\r\n",
        "train_data.element_spec"
      ],
      "execution_count": null,
      "outputs": [
        {
          "output_type": "execute_result",
          "data": {
            "text/plain": [
              "({'input_mask': TensorSpec(shape=(32, 128), dtype=tf.int32, name=None),\n",
              "  'input_type_ids': TensorSpec(shape=(32, 128), dtype=tf.int32, name=None),\n",
              "  'input_word_ids': TensorSpec(shape=(32, 128), dtype=tf.int32, name=None)},\n",
              " TensorSpec(shape=(32,), dtype=tf.int32, name=None))"
            ]
          },
          "metadata": {
            "tags": []
          },
          "execution_count": 16
        }
      ]
    },
    {
      "cell_type": "code",
      "metadata": {
        "colab": {
          "base_uri": "https://localhost:8080/"
        },
        "id": "C57pkrLmaXWr",
        "outputId": "b2b297fc-a9c9-4d06-e32f-d212e8a3a421"
      },
      "source": [
        "# valid data spec\r\n",
        "valid_data.element_spec"
      ],
      "execution_count": null,
      "outputs": [
        {
          "output_type": "execute_result",
          "data": {
            "text/plain": [
              "({'input_mask': TensorSpec(shape=(32, 128), dtype=tf.int32, name=None),\n",
              "  'input_type_ids': TensorSpec(shape=(32, 128), dtype=tf.int32, name=None),\n",
              "  'input_word_ids': TensorSpec(shape=(32, 128), dtype=tf.int32, name=None)},\n",
              " TensorSpec(shape=(32,), dtype=tf.int32, name=None))"
            ]
          },
          "metadata": {
            "tags": []
          },
          "execution_count": 17
        }
      ]
    },
    {
      "cell_type": "markdown",
      "metadata": {
        "id": "3wpGbFLVaZ8V"
      },
      "source": [
        "Now we can build our model"
      ]
    },
    {
      "cell_type": "code",
      "metadata": {
        "colab": {
          "base_uri": "https://localhost:8080/"
        },
        "id": "B2l43ejqaYkH",
        "outputId": "c8c9d80d-d199-444b-c59c-80b7859a9f4d"
      },
      "source": [
        "model = create_model(bert_layer)\r\n",
        "model.summary()"
      ],
      "execution_count": null,
      "outputs": [
        {
          "output_type": "stream",
          "text": [
            "Model: \"functional_1\"\n",
            "__________________________________________________________________________________________________\n",
            "Layer (type)                    Output Shape         Param #     Connected to                     \n",
            "==================================================================================================\n",
            "input_mask (InputLayer)         [(None, 128)]        0                                            \n",
            "__________________________________________________________________________________________________\n",
            "input_type_ids (InputLayer)     [(None, 128)]        0                                            \n",
            "__________________________________________________________________________________________________\n",
            "input_word_ids (InputLayer)     [(None, 128)]        0                                            \n",
            "__________________________________________________________________________________________________\n",
            "keras_layer (KerasLayer)        {'pooled_output': (N 177853441   input_mask[0][0]                 \n",
            "                                                                 input_type_ids[0][0]             \n",
            "                                                                 input_word_ids[0][0]             \n",
            "__________________________________________________________________________________________________\n",
            "dropout (Dropout)               (None, 768)          0           keras_layer[0][13]               \n",
            "__________________________________________________________________________________________________\n",
            "output (Dense)                  (None, 1)            769         dropout[0][0]                    \n",
            "==================================================================================================\n",
            "Total params: 177,854,210\n",
            "Trainable params: 177,854,209\n",
            "Non-trainable params: 1\n",
            "__________________________________________________________________________________________________\n"
          ],
          "name": "stdout"
        }
      ]
    },
    {
      "cell_type": "code",
      "metadata": {
        "colab": {
          "base_uri": "https://localhost:8080/",
          "height": 242
        },
        "id": "xHVsRty5adxv",
        "outputId": "fc8401e7-6747-4bd0-e051-ac55f2dfaf43"
      },
      "source": [
        "plot_model(model)"
      ],
      "execution_count": null,
      "outputs": [
        {
          "output_type": "display_data",
          "data": {
            "image/png": "[encoded data removed]",
            "text/plain": [
              "<IPython.core.display.Image object>"
            ]
          },
          "metadata": {
            "tags": []
          }
        }
      ]
    },
    {
      "cell_type": "code",
      "metadata": {
        "colab": {
          "base_uri": "https://localhost:8080/"
        },
        "id": "GUmaYWDvafsH",
        "outputId": "2a6565e0-bf49-4444-b8c1-eaff6924e33b"
      },
      "source": [
        "# Train model\r\n",
        "epochs = 2 # or 4 in the future if colab will don't freak out with it\r\n",
        "history = model.fit(train_data, \r\n",
        "                    validation_data=valid_data, \r\n",
        "                    epochs=epochs,\r\n",
        "                    use_multiprocessing=True,\r\n",
        "                    workers=-1,\r\n",
        "                    verbose=1)"
      ],
      "execution_count": null,
      "outputs": [
        {
          "output_type": "stream",
          "text": [
            "Epoch 1/2\n",
            "3125/3125 [==============================] - ETA: 0s - loss: 0.3689 - binary_accuracy: 0.8367WARNING:tensorflow:Callbacks method `on_test_batch_end` is slow compared to the batch time (batch time: 0.0361s vs `on_test_batch_end` time: 0.2452s). Check your callbacks.\n"
          ],
          "name": "stdout"
        },
        {
          "output_type": "stream",
          "text": [
            "WARNING:tensorflow:Callbacks method `on_test_batch_end` is slow compared to the batch time (batch time: 0.0361s vs `on_test_batch_end` time: 0.2452s). Check your callbacks.\n"
          ],
          "name": "stderr"
        },
        {
          "output_type": "stream",
          "text": [
            "\b\b\b\b\b\b\b\b\b\b\b\b\b\b\b\b\b\b\b\b\b\b\b\b\b\b\b\b\b\b\b\b\b\b\b\b\b\b\b\b\b\b\b\b\b\b\b\b\b\b\b\b\b\b\b\b\b\b\b\b\b\b\b\b\b\b\b\b\b\b\b\b\b\b\b\b\b\b\b\b\b\b\b\b\b\b\b\b\b\b\b\b\b\r3125/3125 [==============================] - 3126s 1s/step - loss: 0.3689 - binary_accuracy: 0.8367 - val_loss: 0.3147 - val_binary_accuracy: 0.8668\n",
            "Epoch 2/2\n",
            "3125/3125 [==============================] - 3128s 1s/step - loss: 0.2160 - binary_accuracy: 0.9138 - val_loss: 0.3823 - val_binary_accuracy: 0.8710\n"
          ],
          "name": "stdout"
        }
      ]
    },
    {
      "cell_type": "code",
      "metadata": {
        "colab": {
          "base_uri": "https://localhost:8080/",
          "height": 279
        },
        "id": "95PcHAmCNJhu",
        "outputId": "c933826b-f3ed-439b-edd6-fa0778b73d1e"
      },
      "source": [
        "plot_graphs(history, 'loss')"
      ],
      "execution_count": null,
      "outputs": [
        {
          "output_type": "display_data",
          "data": {
            "image/png": "[encoded data removed]",
            "text/plain": [
              "<Figure size 432x288 with 1 Axes>"
            ]
          },
          "metadata": {
            "tags": [],
            "needs_background": "light"
          }
        }
      ]
    },
    {
      "cell_type": "code",
      "metadata": {
        "colab": {
          "base_uri": "https://localhost:8080/",
          "height": 279
        },
        "id": "Weg9kNO5NZ3P",
        "outputId": "3e739133-5757-4290-e40c-b003650ae16e"
      },
      "source": [
        "plot_graphs(history, 'binary_accuracy')"
      ],
      "execution_count": null,
      "outputs": [
        {
          "output_type": "display_data",
          "data": {
            "image/png": "[encoded data removed]",
            "text/plain": [
              "<Figure size 432x288 with 1 Axes>"
            ]
          },
          "metadata": {
            "tags": [],
            "needs_background": "light"
          }
        }
      ]
    },
    {
      "cell_type": "code",
      "metadata": {
        "colab": {
          "base_uri": "https://localhost:8080/"
        },
        "id": "Bc3dFhx8Nd0Q",
        "outputId": "15bd108e-f1b8-41cb-ff60-de60d630adb2"
      },
      "source": [
        "sentences1 = [\"A smiling costumed woman is holding an umbrella\", \"Puppets love swimming\", \"I love cats\", \"I love cats\", \"I love cats\", \"Я обожнюю котів\", \"Я обожнюю котів\", \"Manager is a person responsibe for a company\", \"Менеджер це людина, що відповідальна за компанію\"]\r\n",
        "sentences2 = [\"A happy woman in a fairy costume holds an umbrella\", \"I play football\", \"I love cats\", \"I love dogs\", \"Я обожнюю котів\", \"Я обожнюю котів\", \"Я обожнюю собак\", \"Менеджер це людина, що відповідальна за компанію\", \"Manager is a person responsibe for a company\"]\r\n",
        "test_data = tf.data.Dataset.from_tensor_slices((sentences1, sentences2, [0]*len(sentences1)))\r\n",
        "test_data = (test_data.map(to_feature_map).batch(1))\r\n",
        "preds = model.predict(test_data)\r\n",
        "threshold = 0.7 #between 0 and 1\r\n",
        "[(pred, 'Semantic simillar' if pred >= threshold else 'Semantic different') for pred in preds]"
      ],
      "execution_count": null,
      "outputs": [
        {
          "output_type": "execute_result",
          "data": {
            "text/plain": [
              "[(array([0.03549498], dtype=float32), 'Semantic different'),\n",
              " (array([7.199144e-06], dtype=float32), 'Semantic different'),\n",
              " (array([0.9822009], dtype=float32), 'Semantic simillar'),\n",
              " (array([0.01607955], dtype=float32), 'Semantic different'),\n",
              " (array([0.0308189], dtype=float32), 'Semantic different'),\n",
              " (array([0.9730005], dtype=float32), 'Semantic simillar'),\n",
              " (array([0.5753847], dtype=float32), 'Semantic different'),\n",
              " (array([0.9485759], dtype=float32), 'Semantic simillar'),\n",
              " (array([0.98753023], dtype=float32), 'Semantic simillar')]"
            ]
          },
          "metadata": {
            "tags": []
          },
          "execution_count": 24
        }
      ]
    },
    {
      "cell_type": "code",
      "metadata": {
        "colab": {
          "base_uri": "https://localhost:8080/"
        },
        "id": "XczHofCaNxt4",
        "outputId": "2e71ab53-0339-4671-d5ce-a05c7ff09439"
      },
      "source": [
        "# save model and architecture to single file\r\n",
        "# Save the entire model as a SavedModel.\r\n",
        "model.save(\"/content/gdrive/My Drive/semantic_binary_multilang_classification1_model.h5\")\r\n",
        "print(\"Model was saved to google disk\")"
      ],
      "execution_count": null,
      "outputs": [
        {
          "output_type": "stream",
          "text": [
            "Model was saved to google disk\n"
          ],
          "name": "stdout"
        }
      ]
    },
    {
      "cell_type": "markdown",
      "metadata": {
        "id": "FV9mqP3s4L9v"
      },
      "source": [
        "## Plagiarism detection"
      ]
    },
    {
      "cell_type": "markdown",
      "metadata": {
        "id": "KyuA5UIB4M8v"
      },
      "source": [
        "Data - https://ir.shef.ac.uk/cloughie/resources/plagiarism_corpus.html\r\n",
        "\r\n",
        "`The corpus contains 100 documents (95 answers provided by the 19 participants and the five Wikipedia source articles). For each learning task, there are 19 examples of each of the heavy revision, light revision and near copy levels and 38 non-plagiarised examples written independently from the Wikipedia source (there is an uneven spread in the number of answers across tasks and categories results from using a Latin-square arrangement to order the tasks carried out by the 19 participants). The answer texts contain 19,559 words in total (2,2230 unique tokens) and the the Wikipedia pages total 14,242 words after conversion to plaintext using lynx -dump and removal of URL references. The average length of file in the corpus is 208 words (std dev. 64.91) and 113 unique tokens (std dev. 30.11). Overall, 59 (62%) of the files are written by native English speakers; the remaining 36 (38%) by non-native speakers.`\r\n",
        "\r\n",
        "Corpus link - https://ir.shef.ac.uk/cloughie/resources/corpus-final09.zip"
      ]
    },
    {
      "cell_type": "markdown",
      "metadata": {
        "id": "Yxs6d6704Rib"
      },
      "source": [
        "### Load the data"
      ]
    },
    {
      "cell_type": "code",
      "metadata": {
        "colab": {
          "base_uri": "https://localhost:8080/"
        },
        "id": "1sfcft9fk1O9",
        "outputId": "1642a424-84a5-4033-f605-b59a7aa1f967"
      },
      "source": [
        "!curl -LO https://ir.shef.ac.uk/cloughie/resources/corpus-final09.zip\r\n",
        "!unzip corpus-final09.zip\r\n",
        "\r\n",
        "!curl -LO https://raw.githubusercontent.com/UndeadBigUnicorn/Plagiarism_Detection/master/data/file_information.csv"
      ],
      "execution_count": null,
      "outputs": [
        {
          "output_type": "stream",
          "text": [
            "  % Total    % Received % Xferd  Average Speed   Time    Time     Time  Current\n",
            "                                 Dload  Upload   Total   Spent    Left  Speed\n",
            "100 76688  100 76688    0     0  50585      0  0:00:01  0:00:01 --:--:-- 50585\n",
            "Archive:  corpus-final09.zip\n",
            "  inflating: corpus-20090418/g0pA_taska.txt  \n",
            "  inflating: corpus-20090418/g0pA_taskb.txt  \n",
            "  inflating: corpus-20090418/g0pA_taskc.txt  \n",
            "  inflating: corpus-20090418/g0pA_taskd.txt  \n",
            "  inflating: corpus-20090418/g0pA_taske.txt  \n",
            "  inflating: corpus-20090418/g0pB_taska.txt  \n",
            "  inflating: corpus-20090418/g0pB_taskb.txt  \n",
            "  inflating: corpus-20090418/g0pB_taskc.txt  \n",
            "  inflating: corpus-20090418/g0pB_taskd.txt  \n",
            "  inflating: corpus-20090418/g0pB_taske.txt  \n",
            "  inflating: corpus-20090418/g0pC_taska.txt  \n",
            "  inflating: corpus-20090418/g0pC_taskb.txt  \n",
            "  inflating: corpus-20090418/g0pC_taskc.txt  \n",
            "  inflating: corpus-20090418/g0pC_taskd.txt  \n",
            "  inflating: corpus-20090418/g0pC_taske.txt  \n",
            "  inflating: corpus-20090418/g0pD_taska.txt  \n",
            "  inflating: corpus-20090418/g0pD_taskb.txt  \n",
            "  inflating: corpus-20090418/g0pD_taskc.txt  \n",
            "  inflating: corpus-20090418/g0pD_taskd.txt  \n",
            "  inflating: corpus-20090418/g0pD_taske.txt  \n",
            "  inflating: corpus-20090418/g0pE_taska.txt  \n",
            "  inflating: corpus-20090418/g0pE_taskb.txt  \n",
            "  inflating: corpus-20090418/g0pE_taskc.txt  \n",
            "  inflating: corpus-20090418/g0pE_taskd.txt  \n",
            "  inflating: corpus-20090418/g0pE_taske.txt  \n",
            "  inflating: corpus-20090418/g1pA_taska.txt  \n",
            "  inflating: corpus-20090418/g1pA_taskb.txt  \n",
            "  inflating: corpus-20090418/g1pA_taskc.txt  \n",
            "  inflating: corpus-20090418/g1pA_taskd.txt  \n",
            "  inflating: corpus-20090418/g1pA_taske.txt  \n",
            "  inflating: corpus-20090418/g1pB_taska.txt  \n",
            "  inflating: corpus-20090418/g1pB_taskb.txt  \n",
            "  inflating: corpus-20090418/g1pB_taskc.txt  \n",
            "  inflating: corpus-20090418/g1pB_taskd.txt  \n",
            "  inflating: corpus-20090418/g1pB_taske.txt  \n",
            "  inflating: corpus-20090418/g1pD_taska.txt  \n",
            "  inflating: corpus-20090418/g1pD_taskb.txt  \n",
            "  inflating: corpus-20090418/g1pD_taskc.txt  \n",
            "  inflating: corpus-20090418/g1pD_taskd.txt  \n",
            "  inflating: corpus-20090418/g1pD_taske.txt  \n",
            "  inflating: corpus-20090418/g2pA_taska.txt  \n",
            "  inflating: corpus-20090418/g2pA_taskb.txt  \n",
            "  inflating: corpus-20090418/g2pA_taskc.txt  \n",
            "  inflating: corpus-20090418/g2pA_taskd.txt  \n",
            "  inflating: corpus-20090418/g2pA_taske.txt  \n",
            "  inflating: corpus-20090418/g2pB_taska.txt  \n",
            "  inflating: corpus-20090418/g2pB_taskb.txt  \n",
            "  inflating: corpus-20090418/g2pB_taskc.txt  \n",
            "  inflating: corpus-20090418/g2pB_taskd.txt  \n",
            "  inflating: corpus-20090418/g2pB_taske.txt  \n",
            "  inflating: corpus-20090418/g2pC_taska.txt  \n",
            "  inflating: corpus-20090418/g2pC_taskb.txt  \n",
            "  inflating: corpus-20090418/g2pC_taskc.txt  \n",
            "  inflating: corpus-20090418/g2pC_taskd.txt  \n",
            "  inflating: corpus-20090418/g2pC_taske.txt  \n",
            "  inflating: corpus-20090418/g2pE_taska.txt  \n",
            "  inflating: corpus-20090418/g2pE_taskb.txt  \n",
            "  inflating: corpus-20090418/g2pE_taskc.txt  \n",
            "  inflating: corpus-20090418/g2pE_taskd.txt  \n",
            "  inflating: corpus-20090418/g2pE_taske.txt  \n",
            "  inflating: corpus-20090418/g3pA_taska.txt  \n",
            "  inflating: corpus-20090418/g3pA_taskb.txt  \n",
            "  inflating: corpus-20090418/g3pA_taskc.txt  \n",
            "  inflating: corpus-20090418/g3pA_taskd.txt  \n",
            "  inflating: corpus-20090418/g3pA_taske.txt  \n",
            "  inflating: corpus-20090418/g3pB_taska.txt  \n",
            "  inflating: corpus-20090418/g3pB_taskb.txt  \n",
            "  inflating: corpus-20090418/g3pB_taskc.txt  \n",
            "  inflating: corpus-20090418/g3pB_taskd.txt  \n",
            "  inflating: corpus-20090418/g3pB_taske.txt  \n",
            "  inflating: corpus-20090418/g3pC_taska.txt  \n",
            "  inflating: corpus-20090418/g3pC_taskb.txt  \n",
            "  inflating: corpus-20090418/g3pC_taskc.txt  \n",
            "  inflating: corpus-20090418/g3pC_taskd.txt  \n",
            "  inflating: corpus-20090418/g3pC_taske.txt  \n",
            "  inflating: corpus-20090418/g4pB_taska.txt  \n",
            "  inflating: corpus-20090418/g4pB_taskb.txt  \n",
            "  inflating: corpus-20090418/g4pB_taskc.txt  \n",
            "  inflating: corpus-20090418/g4pB_taskd.txt  \n",
            "  inflating: corpus-20090418/g4pB_taske.txt  \n",
            "  inflating: corpus-20090418/g4pC_taska.txt  \n",
            "  inflating: corpus-20090418/g4pC_taskb.txt  \n",
            "  inflating: corpus-20090418/g4pC_taskc.txt  \n",
            "  inflating: corpus-20090418/g4pC_taskd.txt  \n",
            "  inflating: corpus-20090418/g4pC_taske.txt  \n",
            "  inflating: corpus-20090418/g4pD_taska.txt  \n",
            "  inflating: corpus-20090418/g4pD_taskb.txt  \n",
            "  inflating: corpus-20090418/g4pD_taskc.txt  \n",
            "  inflating: corpus-20090418/g4pD_taskd.txt  \n",
            "  inflating: corpus-20090418/g4pD_taske.txt  \n",
            "  inflating: corpus-20090418/g4pE_taska.txt  \n",
            "  inflating: corpus-20090418/g4pE_taskb.txt  \n",
            "  inflating: corpus-20090418/g4pE_taskc.txt  \n",
            "  inflating: corpus-20090418/g4pE_taskd.txt  \n",
            "  inflating: corpus-20090418/g4pE_taske.txt  \n",
            "  inflating: corpus-20090418/orig_taska.txt  \n",
            "  inflating: corpus-20090418/orig_taskb.txt  \n",
            "  inflating: corpus-20090418/orig_taskc.txt  \n",
            "  inflating: corpus-20090418/orig_taskd.txt  \n",
            "  inflating: corpus-20090418/orig_taske.txt  \n",
            "  % Total    % Received % Xferd  Average Speed   Time    Time     Time  Current\n",
            "                                 Dload  Upload   Total   Spent    Left  Speed\n",
            "100  2299  100  2299    0     0  10742      0 --:--:-- --:--:-- --:--:-- 10693\n"
          ],
          "name": "stdout"
        }
      ]
    },
    {
      "cell_type": "code",
      "metadata": {
        "id": "bvABQtls4TTw"
      },
      "source": [
        "!rm -rf data\r\n",
        "!mv corpus-20090418 data\r\n",
        "!mv file_information.csv data"
      ],
      "execution_count": null,
      "outputs": []
    },
    {
      "cell_type": "code",
      "metadata": {
        "colab": {
          "base_uri": "https://localhost:8080/",
          "height": 348
        },
        "id": "8NBpprKr4u1a",
        "outputId": "9f4972f2-e84c-4069-809a-b88378b249db"
      },
      "source": [
        "csv_file = 'data/file_information.csv'\r\n",
        "plagiarism_df = pd.read_csv(csv_file)\r\n",
        "\r\n",
        "# print out the first few rows of data info\r\n",
        "plagiarism_df.head(10)"
      ],
      "execution_count": null,
      "outputs": [
        {
          "output_type": "execute_result",
          "data": {
            "text/html": [
              "<div>\n",
              "<style scoped>\n",
              "    .dataframe tbody tr th:only-of-type {\n",
              "        vertical-align: middle;\n",
              "    }\n",
              "\n",
              "    .dataframe tbody tr th {\n",
              "        vertical-align: top;\n",
              "    }\n",
              "\n",
              "    .dataframe thead th {\n",
              "        text-align: right;\n",
              "    }\n",
              "</style>\n",
              "<table border=\"1\" class=\"dataframe\">\n",
              "  <thead>\n",
              "    <tr style=\"text-align: right;\">\n",
              "      <th></th>\n",
              "      <th>File</th>\n",
              "      <th>Task</th>\n",
              "      <th>Category</th>\n",
              "    </tr>\n",
              "  </thead>\n",
              "  <tbody>\n",
              "    <tr>\n",
              "      <th>0</th>\n",
              "      <td>g0pA_taska.txt</td>\n",
              "      <td>a</td>\n",
              "      <td>non</td>\n",
              "    </tr>\n",
              "    <tr>\n",
              "      <th>1</th>\n",
              "      <td>g0pA_taskb.txt</td>\n",
              "      <td>b</td>\n",
              "      <td>cut</td>\n",
              "    </tr>\n",
              "    <tr>\n",
              "      <th>2</th>\n",
              "      <td>g0pA_taskc.txt</td>\n",
              "      <td>c</td>\n",
              "      <td>light</td>\n",
              "    </tr>\n",
              "    <tr>\n",
              "      <th>3</th>\n",
              "      <td>g0pA_taskd.txt</td>\n",
              "      <td>d</td>\n",
              "      <td>heavy</td>\n",
              "    </tr>\n",
              "    <tr>\n",
              "      <th>4</th>\n",
              "      <td>g0pA_taske.txt</td>\n",
              "      <td>e</td>\n",
              "      <td>non</td>\n",
              "    </tr>\n",
              "    <tr>\n",
              "      <th>5</th>\n",
              "      <td>g0pB_taska.txt</td>\n",
              "      <td>a</td>\n",
              "      <td>non</td>\n",
              "    </tr>\n",
              "    <tr>\n",
              "      <th>6</th>\n",
              "      <td>g0pB_taskb.txt</td>\n",
              "      <td>b</td>\n",
              "      <td>non</td>\n",
              "    </tr>\n",
              "    <tr>\n",
              "      <th>7</th>\n",
              "      <td>g0pB_taskc.txt</td>\n",
              "      <td>c</td>\n",
              "      <td>cut</td>\n",
              "    </tr>\n",
              "    <tr>\n",
              "      <th>8</th>\n",
              "      <td>g0pB_taskd.txt</td>\n",
              "      <td>d</td>\n",
              "      <td>light</td>\n",
              "    </tr>\n",
              "    <tr>\n",
              "      <th>9</th>\n",
              "      <td>g0pB_taske.txt</td>\n",
              "      <td>e</td>\n",
              "      <td>heavy</td>\n",
              "    </tr>\n",
              "  </tbody>\n",
              "</table>\n",
              "</div>"
            ],
            "text/plain": [
              "             File Task Category\n",
              "0  g0pA_taska.txt    a      non\n",
              "1  g0pA_taskb.txt    b      cut\n",
              "2  g0pA_taskc.txt    c    light\n",
              "3  g0pA_taskd.txt    d    heavy\n",
              "4  g0pA_taske.txt    e      non\n",
              "5  g0pB_taska.txt    a      non\n",
              "6  g0pB_taskb.txt    b      non\n",
              "7  g0pB_taskc.txt    c      cut\n",
              "8  g0pB_taskd.txt    d    light\n",
              "9  g0pB_taske.txt    e    heavy"
            ]
          },
          "metadata": {
            "tags": []
          },
          "execution_count": 39
        }
      ]
    },
    {
      "cell_type": "markdown",
      "metadata": {
        "id": "DqtG05FQ4ycO"
      },
      "source": [
        "### Types of Plagiarism\r\n",
        "Each text file is associated with one **Task** (task A-E) and one **Category** of plagiarism, which you can see in the above DataFrame.\r\n",
        "\r\n",
        "#### Five task types, A-E\r\n",
        "Each text file contains an answer to one short question; these questions are labeled as tasks A-E.\r\n",
        "\r\n",
        "- Each task, A-E, is about a topic that might be included in the Computer Science curriculum that was created by the authors of this dataset.\r\n",
        "  - For example, Task A asks the question: \"What is inheritance in object oriented programming?\"\r\n",
        "\r\n",
        "#### Four categories of plagiarism\r\n",
        "Each text file has an associated plagiarism label/category:\r\n",
        "\r\n",
        "1. cut: An answer is plagiarized; it is copy-pasted directly from the relevant Wikipedia source text.\r\n",
        "2. light: An answer is plagiarized; it is based on the Wikipedia source text and includes some copying and paraphrasing.\r\n",
        "3. heavy: An answer is plagiarized; it is based on the Wikipedia source text but expressed using different words and structure. Since this doesn't copy directly from a source text, this will likely be the most challenging kind of plagiarism to detect.\r\n",
        "4. non: An answer is not plagiarized; the Wikipedia source text is not used to create this answer.\r\n",
        "5. orig: This is a specific category for the original, Wikipedia source text. We will use these files only for comparison purposes.\r\n",
        "\r\n",
        "> So, out of the submitted files, the only category that does not contain any plagiarism is non."
      ]
    },
    {
      "cell_type": "code",
      "metadata": {
        "colab": {
          "base_uri": "https://localhost:8080/"
        },
        "id": "crg4zn9r4wby",
        "outputId": "8f5b3dfe-1b6b-49a0-f533-b6d0ed4cd684"
      },
      "source": [
        "# print out some stats about the data\r\n",
        "print('Number of files: ', plagiarism_df.shape[0])  # .shape[0] gives the rows \r\n",
        "# .unique() gives unique items in a specified column\r\n",
        "print('Number of unique tasks/question types (A-E): ', (len(plagiarism_df['Task'].unique())))\r\n",
        "print('Unique plagiarism categories: ', (plagiarism_df['Category'].unique()))"
      ],
      "execution_count": null,
      "outputs": [
        {
          "output_type": "stream",
          "text": [
            "Number of files:  100\n",
            "Number of unique tasks/question types (A-E):  5\n",
            "Unique plagiarism categories:  ['non' 'cut' 'light' 'heavy' 'orig']\n"
          ],
          "name": "stdout"
        }
      ]
    },
    {
      "cell_type": "markdown",
      "metadata": {
        "id": "ZMq9jhcl496Q"
      },
      "source": [
        "> So, in total there are 100 files, 95 of which are answers (submitted by people) and 5 of which are the original, Wikipedia source texts.\r\n",
        "\r\n"
      ]
    },
    {
      "cell_type": "markdown",
      "metadata": {
        "id": "Q0vKK9z64_94"
      },
      "source": [
        "### Data distribution "
      ]
    },
    {
      "cell_type": "code",
      "metadata": {
        "colab": {
          "base_uri": "https://localhost:8080/",
          "height": 1000
        },
        "id": "7AAvzi5e40u6",
        "outputId": "b46524fe-48b7-4bc2-fbcd-ddf00f619045"
      },
      "source": [
        "# Show counts by different tasks and amounts of plagiarism\r\n",
        "\r\n",
        "# group and count by task\r\n",
        "counts_per_task=plagiarism_df.groupby(['Task']).size().reset_index(name=\"Counts\")\r\n",
        "print(\"\\nTask:\")\r\n",
        "display(counts_per_task)\r\n",
        "\r\n",
        "# group by plagiarism level\r\n",
        "counts_per_category=plagiarism_df.groupby(['Category']).size().reset_index(name=\"Counts\")\r\n",
        "print(\"\\nPlagiarism Levels:\")\r\n",
        "display(counts_per_category)\r\n",
        "\r\n",
        "# group by task AND plagiarism level\r\n",
        "counts_task_and_plagiarism=plagiarism_df.groupby(['Task', 'Category']).size().reset_index(name=\"Counts\")\r\n",
        "print(\"\\nTask & Plagiarism Level Combos :\")\r\n",
        "display(counts_task_and_plagiarism)"
      ],
      "execution_count": null,
      "outputs": [
        {
          "output_type": "stream",
          "text": [
            "\n",
            "Task:\n"
          ],
          "name": "stdout"
        },
        {
          "output_type": "display_data",
          "data": {
            "text/html": [
              "<div>\n",
              "<style scoped>\n",
              "    .dataframe tbody tr th:only-of-type {\n",
              "        vertical-align: middle;\n",
              "    }\n",
              "\n",
              "    .dataframe tbody tr th {\n",
              "        vertical-align: top;\n",
              "    }\n",
              "\n",
              "    .dataframe thead th {\n",
              "        text-align: right;\n",
              "    }\n",
              "</style>\n",
              "<table border=\"1\" class=\"dataframe\">\n",
              "  <thead>\n",
              "    <tr style=\"text-align: right;\">\n",
              "      <th></th>\n",
              "      <th>Task</th>\n",
              "      <th>Counts</th>\n",
              "    </tr>\n",
              "  </thead>\n",
              "  <tbody>\n",
              "    <tr>\n",
              "      <th>0</th>\n",
              "      <td>a</td>\n",
              "      <td>20</td>\n",
              "    </tr>\n",
              "    <tr>\n",
              "      <th>1</th>\n",
              "      <td>b</td>\n",
              "      <td>20</td>\n",
              "    </tr>\n",
              "    <tr>\n",
              "      <th>2</th>\n",
              "      <td>c</td>\n",
              "      <td>20</td>\n",
              "    </tr>\n",
              "    <tr>\n",
              "      <th>3</th>\n",
              "      <td>d</td>\n",
              "      <td>20</td>\n",
              "    </tr>\n",
              "    <tr>\n",
              "      <th>4</th>\n",
              "      <td>e</td>\n",
              "      <td>20</td>\n",
              "    </tr>\n",
              "  </tbody>\n",
              "</table>\n",
              "</div>"
            ],
            "text/plain": [
              "  Task  Counts\n",
              "0    a      20\n",
              "1    b      20\n",
              "2    c      20\n",
              "3    d      20\n",
              "4    e      20"
            ]
          },
          "metadata": {
            "tags": []
          }
        },
        {
          "output_type": "stream",
          "text": [
            "\n",
            "Plagiarism Levels:\n"
          ],
          "name": "stdout"
        },
        {
          "output_type": "display_data",
          "data": {
            "text/html": [
              "<div>\n",
              "<style scoped>\n",
              "    .dataframe tbody tr th:only-of-type {\n",
              "        vertical-align: middle;\n",
              "    }\n",
              "\n",
              "    .dataframe tbody tr th {\n",
              "        vertical-align: top;\n",
              "    }\n",
              "\n",
              "    .dataframe thead th {\n",
              "        text-align: right;\n",
              "    }\n",
              "</style>\n",
              "<table border=\"1\" class=\"dataframe\">\n",
              "  <thead>\n",
              "    <tr style=\"text-align: right;\">\n",
              "      <th></th>\n",
              "      <th>Category</th>\n",
              "      <th>Counts</th>\n",
              "    </tr>\n",
              "  </thead>\n",
              "  <tbody>\n",
              "    <tr>\n",
              "      <th>0</th>\n",
              "      <td>cut</td>\n",
              "      <td>19</td>\n",
              "    </tr>\n",
              "    <tr>\n",
              "      <th>1</th>\n",
              "      <td>heavy</td>\n",
              "      <td>19</td>\n",
              "    </tr>\n",
              "    <tr>\n",
              "      <th>2</th>\n",
              "      <td>light</td>\n",
              "      <td>19</td>\n",
              "    </tr>\n",
              "    <tr>\n",
              "      <th>3</th>\n",
              "      <td>non</td>\n",
              "      <td>38</td>\n",
              "    </tr>\n",
              "    <tr>\n",
              "      <th>4</th>\n",
              "      <td>orig</td>\n",
              "      <td>5</td>\n",
              "    </tr>\n",
              "  </tbody>\n",
              "</table>\n",
              "</div>"
            ],
            "text/plain": [
              "  Category  Counts\n",
              "0      cut      19\n",
              "1    heavy      19\n",
              "2    light      19\n",
              "3      non      38\n",
              "4     orig       5"
            ]
          },
          "metadata": {
            "tags": []
          }
        },
        {
          "output_type": "stream",
          "text": [
            "\n",
            "Task & Plagiarism Level Combos :\n"
          ],
          "name": "stdout"
        },
        {
          "output_type": "display_data",
          "data": {
            "text/html": [
              "<div>\n",
              "<style scoped>\n",
              "    .dataframe tbody tr th:only-of-type {\n",
              "        vertical-align: middle;\n",
              "    }\n",
              "\n",
              "    .dataframe tbody tr th {\n",
              "        vertical-align: top;\n",
              "    }\n",
              "\n",
              "    .dataframe thead th {\n",
              "        text-align: right;\n",
              "    }\n",
              "</style>\n",
              "<table border=\"1\" class=\"dataframe\">\n",
              "  <thead>\n",
              "    <tr style=\"text-align: right;\">\n",
              "      <th></th>\n",
              "      <th>Task</th>\n",
              "      <th>Category</th>\n",
              "      <th>Counts</th>\n",
              "    </tr>\n",
              "  </thead>\n",
              "  <tbody>\n",
              "    <tr>\n",
              "      <th>0</th>\n",
              "      <td>a</td>\n",
              "      <td>cut</td>\n",
              "      <td>4</td>\n",
              "    </tr>\n",
              "    <tr>\n",
              "      <th>1</th>\n",
              "      <td>a</td>\n",
              "      <td>heavy</td>\n",
              "      <td>3</td>\n",
              "    </tr>\n",
              "    <tr>\n",
              "      <th>2</th>\n",
              "      <td>a</td>\n",
              "      <td>light</td>\n",
              "      <td>3</td>\n",
              "    </tr>\n",
              "    <tr>\n",
              "      <th>3</th>\n",
              "      <td>a</td>\n",
              "      <td>non</td>\n",
              "      <td>9</td>\n",
              "    </tr>\n",
              "    <tr>\n",
              "      <th>4</th>\n",
              "      <td>a</td>\n",
              "      <td>orig</td>\n",
              "      <td>1</td>\n",
              "    </tr>\n",
              "    <tr>\n",
              "      <th>5</th>\n",
              "      <td>b</td>\n",
              "      <td>cut</td>\n",
              "      <td>3</td>\n",
              "    </tr>\n",
              "    <tr>\n",
              "      <th>6</th>\n",
              "      <td>b</td>\n",
              "      <td>heavy</td>\n",
              "      <td>4</td>\n",
              "    </tr>\n",
              "    <tr>\n",
              "      <th>7</th>\n",
              "      <td>b</td>\n",
              "      <td>light</td>\n",
              "      <td>3</td>\n",
              "    </tr>\n",
              "    <tr>\n",
              "      <th>8</th>\n",
              "      <td>b</td>\n",
              "      <td>non</td>\n",
              "      <td>9</td>\n",
              "    </tr>\n",
              "    <tr>\n",
              "      <th>9</th>\n",
              "      <td>b</td>\n",
              "      <td>orig</td>\n",
              "      <td>1</td>\n",
              "    </tr>\n",
              "    <tr>\n",
              "      <th>10</th>\n",
              "      <td>c</td>\n",
              "      <td>cut</td>\n",
              "      <td>3</td>\n",
              "    </tr>\n",
              "    <tr>\n",
              "      <th>11</th>\n",
              "      <td>c</td>\n",
              "      <td>heavy</td>\n",
              "      <td>5</td>\n",
              "    </tr>\n",
              "    <tr>\n",
              "      <th>12</th>\n",
              "      <td>c</td>\n",
              "      <td>light</td>\n",
              "      <td>4</td>\n",
              "    </tr>\n",
              "    <tr>\n",
              "      <th>13</th>\n",
              "      <td>c</td>\n",
              "      <td>non</td>\n",
              "      <td>7</td>\n",
              "    </tr>\n",
              "    <tr>\n",
              "      <th>14</th>\n",
              "      <td>c</td>\n",
              "      <td>orig</td>\n",
              "      <td>1</td>\n",
              "    </tr>\n",
              "    <tr>\n",
              "      <th>15</th>\n",
              "      <td>d</td>\n",
              "      <td>cut</td>\n",
              "      <td>4</td>\n",
              "    </tr>\n",
              "    <tr>\n",
              "      <th>16</th>\n",
              "      <td>d</td>\n",
              "      <td>heavy</td>\n",
              "      <td>4</td>\n",
              "    </tr>\n",
              "    <tr>\n",
              "      <th>17</th>\n",
              "      <td>d</td>\n",
              "      <td>light</td>\n",
              "      <td>5</td>\n",
              "    </tr>\n",
              "    <tr>\n",
              "      <th>18</th>\n",
              "      <td>d</td>\n",
              "      <td>non</td>\n",
              "      <td>6</td>\n",
              "    </tr>\n",
              "    <tr>\n",
              "      <th>19</th>\n",
              "      <td>d</td>\n",
              "      <td>orig</td>\n",
              "      <td>1</td>\n",
              "    </tr>\n",
              "    <tr>\n",
              "      <th>20</th>\n",
              "      <td>e</td>\n",
              "      <td>cut</td>\n",
              "      <td>5</td>\n",
              "    </tr>\n",
              "    <tr>\n",
              "      <th>21</th>\n",
              "      <td>e</td>\n",
              "      <td>heavy</td>\n",
              "      <td>3</td>\n",
              "    </tr>\n",
              "    <tr>\n",
              "      <th>22</th>\n",
              "      <td>e</td>\n",
              "      <td>light</td>\n",
              "      <td>4</td>\n",
              "    </tr>\n",
              "    <tr>\n",
              "      <th>23</th>\n",
              "      <td>e</td>\n",
              "      <td>non</td>\n",
              "      <td>7</td>\n",
              "    </tr>\n",
              "    <tr>\n",
              "      <th>24</th>\n",
              "      <td>e</td>\n",
              "      <td>orig</td>\n",
              "      <td>1</td>\n",
              "    </tr>\n",
              "  </tbody>\n",
              "</table>\n",
              "</div>"
            ],
            "text/plain": [
              "   Task Category  Counts\n",
              "0     a      cut       4\n",
              "1     a    heavy       3\n",
              "2     a    light       3\n",
              "3     a      non       9\n",
              "4     a     orig       1\n",
              "5     b      cut       3\n",
              "6     b    heavy       4\n",
              "7     b    light       3\n",
              "8     b      non       9\n",
              "9     b     orig       1\n",
              "10    c      cut       3\n",
              "11    c    heavy       5\n",
              "12    c    light       4\n",
              "13    c      non       7\n",
              "14    c     orig       1\n",
              "15    d      cut       4\n",
              "16    d    heavy       4\n",
              "17    d    light       5\n",
              "18    d      non       6\n",
              "19    d     orig       1\n",
              "20    e      cut       5\n",
              "21    e    heavy       3\n",
              "22    e    light       4\n",
              "23    e      non       7\n",
              "24    e     orig       1"
            ]
          },
          "metadata": {
            "tags": []
          }
        }
      ]
    },
    {
      "cell_type": "code",
      "metadata": {
        "colab": {
          "base_uri": "https://localhost:8080/",
          "height": 299
        },
        "id": "6mL4yohS5B7J",
        "outputId": "cc951fac-f889-4f91-fa3e-0d908d002c1e"
      },
      "source": [
        "import matplotlib.pyplot as plt\r\n",
        "% matplotlib inline\r\n",
        "\r\n",
        "# counts\r\n",
        "group = ['Task', 'Category']\r\n",
        "counts = plagiarism_df.groupby(group).size().reset_index(name=\"Counts\")\r\n",
        "\r\n",
        "fig1, ax1 = plt.subplots()\r\n",
        "ax1.set_xticklabels([\"\", \"Task a\", \"Task b\", \"Task c\", \"Task d\", \"Task e\"], ha=\"left\")\r\n",
        "ax1.bar(range(len(counts)), counts['Counts'], color = ['r','g','b','y','m'])\r\n",
        "plt.show()"
      ],
      "execution_count": null,
      "outputs": [
        {
          "output_type": "stream",
          "text": [
            "/usr/local/lib/python3.7/dist-packages/ipykernel_launcher.py:9: UserWarning: FixedFormatter should only be used together with FixedLocator\n",
            "  if __name__ == '__main__':\n"
          ],
          "name": "stderr"
        },
        {
          "output_type": "display_data",
          "data": {
            "image/png": "[encoded data removed]",
            "text/plain": [
              "<Figure size 432x288 with 1 Axes>"
            ]
          },
          "metadata": {
            "tags": [],
            "needs_background": "light"
          }
        }
      ]
    },
    {
      "cell_type": "code",
      "metadata": {
        "id": "2yV9OLKo5D-x"
      },
      "source": [
        "# Read in a csv file and return a transformed dataframe\r\n",
        "def numerical_dataframe(csv_file='data/file_information.csv'):\r\n",
        "    '''Reads in a csv file which is assumed to have `File`, `Category` and `Task` columns.\r\n",
        "       This function does two things: \r\n",
        "       1) converts `Category` column values to numerical values \r\n",
        "       2) Adds a new, numerical `Class` label column.\r\n",
        "       The `Class` column will label plagiarized answers as 1 and non-plagiarized as 0.\r\n",
        "       Source texts have a special label, -1.\r\n",
        "       :param csv_file: The directory for the file_information.csv file\r\n",
        "       :return: A dataframe with numerical categories and a new `Class` label column'''\r\n",
        "    \r\n",
        "    # read in csv file\r\n",
        "    num_df = pd.read_csv(csv_file)\r\n",
        "    \r\n",
        "    # convert Category column to numerical values\r\n",
        "    cat_num = {'non': 0, 'heavy': 1, 'light': 2, 'cut': 3, 'orig': -1}\r\n",
        "    num_df['Category'] = num_df['Category'].map(cat_num)\r\n",
        "    \r\n",
        "    # add Target column\r\n",
        "    # num_df['Target'] = [ x for x in num_df['Category'] ]\r\n",
        "    num_df['Target'] = [ x if x < 1 else 1 for x in num_df['Category'] ]\r\n",
        "    \r\n",
        "    return num_df"
      ],
      "execution_count": null,
      "outputs": []
    },
    {
      "cell_type": "code",
      "metadata": {
        "colab": {
          "base_uri": "https://localhost:8080/",
          "height": 348
        },
        "id": "QUMQtoBL5GEp",
        "outputId": "f4f04d47-04f4-49b4-cfae-a895003c8d25"
      },
      "source": [
        "plagiarism_df = numerical_dataframe(csv_file ='data/file_information.csv')\r\n",
        "\r\n",
        "# check that all categories of plagiarism have a class label = 1\r\n",
        "plagiarism_df.head(10)"
      ],
      "execution_count": null,
      "outputs": [
        {
          "output_type": "execute_result",
          "data": {
            "text/html": [
              "<div>\n",
              "<style scoped>\n",
              "    .dataframe tbody tr th:only-of-type {\n",
              "        vertical-align: middle;\n",
              "    }\n",
              "\n",
              "    .dataframe tbody tr th {\n",
              "        vertical-align: top;\n",
              "    }\n",
              "\n",
              "    .dataframe thead th {\n",
              "        text-align: right;\n",
              "    }\n",
              "</style>\n",
              "<table border=\"1\" class=\"dataframe\">\n",
              "  <thead>\n",
              "    <tr style=\"text-align: right;\">\n",
              "      <th></th>\n",
              "      <th>File</th>\n",
              "      <th>Task</th>\n",
              "      <th>Category</th>\n",
              "      <th>Target</th>\n",
              "    </tr>\n",
              "  </thead>\n",
              "  <tbody>\n",
              "    <tr>\n",
              "      <th>0</th>\n",
              "      <td>g0pA_taska.txt</td>\n",
              "      <td>a</td>\n",
              "      <td>0</td>\n",
              "      <td>0</td>\n",
              "    </tr>\n",
              "    <tr>\n",
              "      <th>1</th>\n",
              "      <td>g0pA_taskb.txt</td>\n",
              "      <td>b</td>\n",
              "      <td>3</td>\n",
              "      <td>1</td>\n",
              "    </tr>\n",
              "    <tr>\n",
              "      <th>2</th>\n",
              "      <td>g0pA_taskc.txt</td>\n",
              "      <td>c</td>\n",
              "      <td>2</td>\n",
              "      <td>1</td>\n",
              "    </tr>\n",
              "    <tr>\n",
              "      <th>3</th>\n",
              "      <td>g0pA_taskd.txt</td>\n",
              "      <td>d</td>\n",
              "      <td>1</td>\n",
              "      <td>1</td>\n",
              "    </tr>\n",
              "    <tr>\n",
              "      <th>4</th>\n",
              "      <td>g0pA_taske.txt</td>\n",
              "      <td>e</td>\n",
              "      <td>0</td>\n",
              "      <td>0</td>\n",
              "    </tr>\n",
              "    <tr>\n",
              "      <th>5</th>\n",
              "      <td>g0pB_taska.txt</td>\n",
              "      <td>a</td>\n",
              "      <td>0</td>\n",
              "      <td>0</td>\n",
              "    </tr>\n",
              "    <tr>\n",
              "      <th>6</th>\n",
              "      <td>g0pB_taskb.txt</td>\n",
              "      <td>b</td>\n",
              "      <td>0</td>\n",
              "      <td>0</td>\n",
              "    </tr>\n",
              "    <tr>\n",
              "      <th>7</th>\n",
              "      <td>g0pB_taskc.txt</td>\n",
              "      <td>c</td>\n",
              "      <td>3</td>\n",
              "      <td>1</td>\n",
              "    </tr>\n",
              "    <tr>\n",
              "      <th>8</th>\n",
              "      <td>g0pB_taskd.txt</td>\n",
              "      <td>d</td>\n",
              "      <td>2</td>\n",
              "      <td>1</td>\n",
              "    </tr>\n",
              "    <tr>\n",
              "      <th>9</th>\n",
              "      <td>g0pB_taske.txt</td>\n",
              "      <td>e</td>\n",
              "      <td>1</td>\n",
              "      <td>1</td>\n",
              "    </tr>\n",
              "  </tbody>\n",
              "</table>\n",
              "</div>"
            ],
            "text/plain": [
              "             File Task  Category  Target\n",
              "0  g0pA_taska.txt    a         0       0\n",
              "1  g0pA_taskb.txt    b         3       1\n",
              "2  g0pA_taskc.txt    c         2       1\n",
              "3  g0pA_taskd.txt    d         1       1\n",
              "4  g0pA_taske.txt    e         0       0\n",
              "5  g0pB_taska.txt    a         0       0\n",
              "6  g0pB_taskb.txt    b         0       0\n",
              "7  g0pB_taskc.txt    c         3       1\n",
              "8  g0pB_taskd.txt    d         2       1\n",
              "9  g0pB_taske.txt    e         1       1"
            ]
          },
          "metadata": {
            "tags": []
          },
          "execution_count": 66
        }
      ]
    },
    {
      "cell_type": "code",
      "metadata": {
        "colab": {
          "base_uri": "https://localhost:8080/",
          "height": 298
        },
        "id": "1LLFX5xh5ICp",
        "outputId": "15f301f6-cb3b-4d71-f94b-f1a2f4e352df"
      },
      "source": [
        "plagiarism_df[\"Target\"].plot(kind='hist', title='Target distribution')"
      ],
      "execution_count": null,
      "outputs": [
        {
          "output_type": "execute_result",
          "data": {
            "text/plain": [
              "<AxesSubplot:title={'center':'Target distribution'}, ylabel='Frequency'>"
            ]
          },
          "metadata": {
            "tags": []
          },
          "execution_count": 67
        },
        {
          "output_type": "display_data",
          "data": {
            "image/png": "[encoded data removed]",
            "text/plain": [
              "<Figure size 432x288 with 1 Axes>"
            ]
          },
          "metadata": {
            "tags": [],
            "needs_background": "light"
          }
        }
      ]
    },
    {
      "cell_type": "code",
      "metadata": {
        "colab": {
          "base_uri": "https://localhost:8080/",
          "height": 198
        },
        "id": "FUK9VLJr5JkB",
        "outputId": "1389504b-804a-4a1d-b497-9352b7fd3cfe"
      },
      "source": [
        "# helper function for pre-processing text given a file\r\n",
        "def process_file(file):\r\n",
        "\r\n",
        "    return process_text(file.read())\r\n",
        "\r\n",
        "def create_text_column(df, file_directory='data/'):\r\n",
        "    '''Reads in the files, listed in a df and returns that df with an additional column, `Text`. \r\n",
        "       :param df: A dataframe of file information including a column for `File`\r\n",
        "       :param file_directory: the main directory where files are stored\r\n",
        "       :return: A dataframe with processed text '''\r\n",
        "   \r\n",
        "    # create copy to modify\r\n",
        "    text_df = df.copy()\r\n",
        "    \r\n",
        "    # store processed text\r\n",
        "    text = []\r\n",
        "    \r\n",
        "    # for each file (row) in the df, read in the file \r\n",
        "    for row_i in df.index:\r\n",
        "        filename = df.iloc[row_i]['File']\r\n",
        "        #print(filename)\r\n",
        "        file_path = file_directory + filename\r\n",
        "        with open(file_path, 'r', encoding='utf-8', errors='ignore') as file:\r\n",
        "\r\n",
        "            # standardize text using helper function\r\n",
        "            file_text = process_file(file)\r\n",
        "            # append processed text to list\r\n",
        "            text.append(file_text)\r\n",
        "    \r\n",
        "    # add column to the copied dataframe\r\n",
        "    text_df['Text'] = text\r\n",
        "    \r\n",
        "    return text_df\r\n",
        "\r\n",
        "text_df = create_text_column(plagiarism_df)\r\n",
        "text_df.head()"
      ],
      "execution_count": null,
      "outputs": [
        {
          "output_type": "execute_result",
          "data": {
            "text/html": [
              "<div>\n",
              "<style scoped>\n",
              "    .dataframe tbody tr th:only-of-type {\n",
              "        vertical-align: middle;\n",
              "    }\n",
              "\n",
              "    .dataframe tbody tr th {\n",
              "        vertical-align: top;\n",
              "    }\n",
              "\n",
              "    .dataframe thead th {\n",
              "        text-align: right;\n",
              "    }\n",
              "</style>\n",
              "<table border=\"1\" class=\"dataframe\">\n",
              "  <thead>\n",
              "    <tr style=\"text-align: right;\">\n",
              "      <th></th>\n",
              "      <th>File</th>\n",
              "      <th>Task</th>\n",
              "      <th>Category</th>\n",
              "      <th>Target</th>\n",
              "      <th>Text</th>\n",
              "    </tr>\n",
              "  </thead>\n",
              "  <tbody>\n",
              "    <tr>\n",
              "      <th>0</th>\n",
              "      <td>g0pA_taska.txt</td>\n",
              "      <td>a</td>\n",
              "      <td>0</td>\n",
              "      <td>0</td>\n",
              "      <td>inheritance is a basic concept of object-orien...</td>\n",
              "    </tr>\n",
              "    <tr>\n",
              "      <th>1</th>\n",
              "      <td>g0pA_taskb.txt</td>\n",
              "      <td>b</td>\n",
              "      <td>3</td>\n",
              "      <td>1</td>\n",
              "      <td>pagerank is a link analysis algorithm used by ...</td>\n",
              "    </tr>\n",
              "    <tr>\n",
              "      <th>2</th>\n",
              "      <td>g0pA_taskc.txt</td>\n",
              "      <td>c</td>\n",
              "      <td>2</td>\n",
              "      <td>1</td>\n",
              "      <td>the vector space model (also called, term vect...</td>\n",
              "    </tr>\n",
              "    <tr>\n",
              "      <th>3</th>\n",
              "      <td>g0pA_taskd.txt</td>\n",
              "      <td>d</td>\n",
              "      <td>1</td>\n",
              "      <td>1</td>\n",
              "      <td>bayes’ theorem was names after rev thomas baye...</td>\n",
              "    </tr>\n",
              "    <tr>\n",
              "      <th>4</th>\n",
              "      <td>g0pA_taske.txt</td>\n",
              "      <td>e</td>\n",
              "      <td>0</td>\n",
              "      <td>0</td>\n",
              "      <td>dynamic programming is an algorithm design tec...</td>\n",
              "    </tr>\n",
              "  </tbody>\n",
              "</table>\n",
              "</div>"
            ],
            "text/plain": [
              "             File  ...                                               Text\n",
              "0  g0pA_taska.txt  ...  inheritance is a basic concept of object-orien...\n",
              "1  g0pA_taskb.txt  ...  pagerank is a link analysis algorithm used by ...\n",
              "2  g0pA_taskc.txt  ...  the vector space model (also called, term vect...\n",
              "3  g0pA_taskd.txt  ...  bayes’ theorem was names after rev thomas baye...\n",
              "4  g0pA_taske.txt  ...  dynamic programming is an algorithm design tec...\n",
              "\n",
              "[5 rows x 5 columns]"
            ]
          },
          "metadata": {
            "tags": []
          },
          "execution_count": 69
        }
      ]
    },
    {
      "cell_type": "code",
      "metadata": {
        "colab": {
          "base_uri": "https://localhost:8080/"
        },
        "id": "Y4aRP9Tv5Mlg",
        "outputId": "c460c689-81ff-4f66-f272-e6fbb0a192a2"
      },
      "source": [
        "row_idx = 0 # feel free to change this index\r\n",
        "\r\n",
        "sample_text = text_df.iloc[0]['Text']\r\n",
        "\r\n",
        "print('Sample processed text:\\n\\n', sample_text)"
      ],
      "execution_count": null,
      "outputs": [
        {
          "output_type": "stream",
          "text": [
            "Sample processed text:\n",
            "\n",
            " inheritance is a basic concept of object-oriented programming where the basic idea is to create new classes that add extra detail to existing classes. this is done by allowing the new classes to reuse the methods and variables of the existing classes and new methods and classes are added to specialise the new class. inheritance models the “is-kind-of” relationship between entities (or objects), for example, postgraduates and undergraduates are both kinds of student. this kind of relationship can be visualised as a tree structure, where ‘student’ would be the more general root node and both ‘postgraduate’ and ‘undergraduate’ would be more specialised extensions of the ‘student’ node (or the child nodes). in this relationship ‘student’ would be known as the superclass or parent class whereas, ‘postgraduate’ would be known as the subclass or child class because the ‘postgraduate’ class extends the ‘student’ class. inheritance can occur on several layers, where if visualised would display a larger tree structure. for example, we could further extend the ‘postgraduate’ node by adding two extra extended classes to it called, ‘msc student’ and ‘phd student’ as both these types of student are kinds of postgraduate student. this would mean that both the ‘msc student’ and ‘phd student’ classes would inherit methods and variables from both the ‘postgraduate’ and ‘student classes’. \n"
          ],
          "name": "stdout"
        }
      ]
    },
    {
      "cell_type": "markdown",
      "metadata": {
        "id": "cGpmorhV5Taz"
      },
      "source": [
        "Now we need to convert data to format that was used to train base model: <br/>\r\n",
        "`text_a`, `text_b`, `target`"
      ]
    },
    {
      "cell_type": "code",
      "metadata": {
        "id": "WLoL3N8s5Ri4"
      },
      "source": [
        "def create_text_pairs(df):\r\n",
        "  '''Convert df to such format `text_a`, `text_b`, `target`'''\r\n",
        "  new_df = pd.DataFrame()\r\n",
        "\r\n",
        "  text_a = []\r\n",
        "  text_b = []\r\n",
        "  targets = []\r\n",
        "\r\n",
        "  for task, task_df in df.groupby(['Task']):\r\n",
        "    orig_text = task_df[task_df['Category']==-1]['Text'].item()\r\n",
        "\r\n",
        "    for index, row in task_df.iterrows():\r\n",
        "      text_a.append(orig_text)\r\n",
        "      text_b.append(row['Text'])\r\n",
        "      targets.append(row['Target'] if row['Target'] != -1 else 1)\r\n",
        "\r\n",
        "  new_df['Text A'] = text_a\r\n",
        "  new_df['Text B'] = text_b\r\n",
        "  new_df['Target'] = targets\r\n",
        "\r\n",
        "  return new_df"
      ],
      "execution_count": null,
      "outputs": []
    },
    {
      "cell_type": "code",
      "metadata": {
        "colab": {
          "base_uri": "https://localhost:8080/",
          "height": 348
        },
        "id": "L27nSofk5VEJ",
        "outputId": "d15119ad-0c5a-498e-d95d-3b7bda5dd168"
      },
      "source": [
        "plagiarism_df = create_text_pairs(text_df)\r\n",
        "plagiarism_df.tail(10)"
      ],
      "execution_count": null,
      "outputs": [
        {
          "output_type": "execute_result",
          "data": {
            "text/html": [
              "<div>\n",
              "<style scoped>\n",
              "    .dataframe tbody tr th:only-of-type {\n",
              "        vertical-align: middle;\n",
              "    }\n",
              "\n",
              "    .dataframe tbody tr th {\n",
              "        vertical-align: top;\n",
              "    }\n",
              "\n",
              "    .dataframe thead th {\n",
              "        text-align: right;\n",
              "    }\n",
              "</style>\n",
              "<table border=\"1\" class=\"dataframe\">\n",
              "  <thead>\n",
              "    <tr style=\"text-align: right;\">\n",
              "      <th></th>\n",
              "      <th>Text A</th>\n",
              "      <th>Text B</th>\n",
              "      <th>Target</th>\n",
              "    </tr>\n",
              "  </thead>\n",
              "  <tbody>\n",
              "    <tr>\n",
              "      <th>90</th>\n",
              "      <td>in mathematics and computer science, dynamic p...</td>\n",
              "      <td>dynamic programming is a problem-solving metho...</td>\n",
              "      <td>1</td>\n",
              "    </tr>\n",
              "    <tr>\n",
              "      <th>91</th>\n",
              "      <td>in mathematics and computer science, dynamic p...</td>\n",
              "      <td>dynamic programming (dp) is in basic terms an ...</td>\n",
              "      <td>0</td>\n",
              "    </tr>\n",
              "    <tr>\n",
              "      <th>92</th>\n",
              "      <td>in mathematics and computer science, dynamic p...</td>\n",
              "      <td>in the field of computer science, term 'dynami...</td>\n",
              "      <td>0</td>\n",
              "    </tr>\n",
              "    <tr>\n",
              "      <th>93</th>\n",
              "      <td>in mathematics and computer science, dynamic p...</td>\n",
              "      <td>dynamic programming is a method of solving pro...</td>\n",
              "      <td>1</td>\n",
              "    </tr>\n",
              "    <tr>\n",
              "      <th>94</th>\n",
              "      <td>in mathematics and computer science, dynamic p...</td>\n",
              "      <td>in computer science and mathematics, dynamic p...</td>\n",
              "      <td>1</td>\n",
              "    </tr>\n",
              "    <tr>\n",
              "      <th>95</th>\n",
              "      <td>in mathematics and computer science, dynamic p...</td>\n",
              "      <td>in mathematics and computer science, dynamic p...</td>\n",
              "      <td>1</td>\n",
              "    </tr>\n",
              "    <tr>\n",
              "      <th>96</th>\n",
              "      <td>in mathematics and computer science, dynamic p...</td>\n",
              "      <td>in mathematics and computer science, dynamic p...</td>\n",
              "      <td>1</td>\n",
              "    </tr>\n",
              "    <tr>\n",
              "      <th>97</th>\n",
              "      <td>in mathematics and computer science, dynamic p...</td>\n",
              "      <td>dynamic programming is a method of providing s...</td>\n",
              "      <td>1</td>\n",
              "    </tr>\n",
              "    <tr>\n",
              "      <th>98</th>\n",
              "      <td>in mathematics and computer science, dynamic p...</td>\n",
              "      <td>dynamic programming is a method for efficient...</td>\n",
              "      <td>0</td>\n",
              "    </tr>\n",
              "    <tr>\n",
              "      <th>99</th>\n",
              "      <td>in mathematics and computer science, dynamic p...</td>\n",
              "      <td>in mathematics and computer science, dynamic p...</td>\n",
              "      <td>1</td>\n",
              "    </tr>\n",
              "  </tbody>\n",
              "</table>\n",
              "</div>"
            ],
            "text/plain": [
              "                                               Text A  ... Target\n",
              "90  in mathematics and computer science, dynamic p...  ...      1\n",
              "91  in mathematics and computer science, dynamic p...  ...      0\n",
              "92  in mathematics and computer science, dynamic p...  ...      0\n",
              "93  in mathematics and computer science, dynamic p...  ...      1\n",
              "94  in mathematics and computer science, dynamic p...  ...      1\n",
              "95  in mathematics and computer science, dynamic p...  ...      1\n",
              "96  in mathematics and computer science, dynamic p...  ...      1\n",
              "97  in mathematics and computer science, dynamic p...  ...      1\n",
              "98  in mathematics and computer science, dynamic p...  ...      0\n",
              "99  in mathematics and computer science, dynamic p...  ...      1\n",
              "\n",
              "[10 rows x 3 columns]"
            ]
          },
          "metadata": {
            "tags": []
          },
          "execution_count": 72
        }
      ]
    },
    {
      "cell_type": "markdown",
      "metadata": {
        "id": "P9ZwMPCK5Yhg"
      },
      "source": [
        "Now we can load the translated corpus from google drive. The preparation there was made the same"
      ]
    },
    {
      "cell_type": "code",
      "metadata": {
        "colab": {
          "base_uri": "https://localhost:8080/"
        },
        "id": "oPtK1UYd5WTY",
        "outputId": "5158f40d-b6bd-4114-8375-7c08f15e6098"
      },
      "source": [
        "!cp '/content/gdrive/My Drive/plagiarism_translated_data.zip' plagiarism_translated_data.zip\r\n",
        "!unzip plagiarism_translated_data.zip"
      ],
      "execution_count": null,
      "outputs": [
        {
          "output_type": "stream",
          "text": [
            "Archive:  plagiarism_translated_data.zip\n",
            "   creating: plagiarism_data/\n",
            "  inflating: plagiarism_data/corpus.csv  \n"
          ],
          "name": "stdout"
        }
      ]
    },
    {
      "cell_type": "code",
      "metadata": {
        "colab": {
          "base_uri": "https://localhost:8080/"
        },
        "id": "lfc3R4r75pe4",
        "outputId": "a4013def-e39a-4a0e-d7ac-eb72703c82a4"
      },
      "source": [
        "plagiarism_df = pd.read_csv(\"plagiarism_data/corpus.csv\")\r\n",
        "\r\n",
        "# Shape of the data\r\n",
        "print(f\"Total samples : {plagiarism_df.shape[0]}\")\r\n",
        "\r\n",
        "plagiarism_df.shape"
      ],
      "execution_count": null,
      "outputs": [
        {
          "output_type": "stream",
          "text": [
            "Total samples : 400\n"
          ],
          "name": "stdout"
        },
        {
          "output_type": "execute_result",
          "data": {
            "text/plain": [
              "(400, 4)"
            ]
          },
          "metadata": {
            "tags": []
          },
          "execution_count": 74
        }
      ]
    },
    {
      "cell_type": "code",
      "metadata": {
        "colab": {
          "base_uri": "https://localhost:8080/",
          "height": 407
        },
        "id": "Z9X3C6as57B4",
        "outputId": "018e98fc-0f67-469a-efaa-5c82bd188265"
      },
      "source": [
        "plagiarism_df"
      ],
      "execution_count": null,
      "outputs": [
        {
          "output_type": "execute_result",
          "data": {
            "text/html": [
              "<div>\n",
              "<style scoped>\n",
              "    .dataframe tbody tr th:only-of-type {\n",
              "        vertical-align: middle;\n",
              "    }\n",
              "\n",
              "    .dataframe tbody tr th {\n",
              "        vertical-align: top;\n",
              "    }\n",
              "\n",
              "    .dataframe thead th {\n",
              "        text-align: right;\n",
              "    }\n",
              "</style>\n",
              "<table border=\"1\" class=\"dataframe\">\n",
              "  <thead>\n",
              "    <tr style=\"text-align: right;\">\n",
              "      <th></th>\n",
              "      <th>Unnamed: 0</th>\n",
              "      <th>Text A</th>\n",
              "      <th>Text B</th>\n",
              "      <th>Target</th>\n",
              "    </tr>\n",
              "  </thead>\n",
              "  <tbody>\n",
              "    <tr>\n",
              "      <th>0</th>\n",
              "      <td>0</td>\n",
              "      <td>in object oriented programming inheritance is ...</td>\n",
              "      <td>inheritance is a basic concept of object orien...</td>\n",
              "      <td>0</td>\n",
              "    </tr>\n",
              "    <tr>\n",
              "      <th>1</th>\n",
              "      <td>1</td>\n",
              "      <td>in object oriented programming inheritance is ...</td>\n",
              "      <td>успадкування - це основна концепція об'єктно-о...</td>\n",
              "      <td>0</td>\n",
              "    </tr>\n",
              "    <tr>\n",
              "      <th>2</th>\n",
              "      <td>2</td>\n",
              "      <td>в об'єктно-орієнтованому програмуванні успадку...</td>\n",
              "      <td>inheritance is a basic concept of object orien...</td>\n",
              "      <td>0</td>\n",
              "    </tr>\n",
              "    <tr>\n",
              "      <th>3</th>\n",
              "      <td>3</td>\n",
              "      <td>в об'єктно-орієнтованому програмуванні успадку...</td>\n",
              "      <td>успадкування - це основна концепція об'єктно-о...</td>\n",
              "      <td>0</td>\n",
              "    </tr>\n",
              "    <tr>\n",
              "      <th>4</th>\n",
              "      <td>4</td>\n",
              "      <td>in object oriented programming inheritance is ...</td>\n",
              "      <td>inheritance is a basic concept in object orien...</td>\n",
              "      <td>0</td>\n",
              "    </tr>\n",
              "    <tr>\n",
              "      <th>...</th>\n",
              "      <td>...</td>\n",
              "      <td>...</td>\n",
              "      <td>...</td>\n",
              "      <td>...</td>\n",
              "    </tr>\n",
              "    <tr>\n",
              "      <th>395</th>\n",
              "      <td>395</td>\n",
              "      <td>в математиці та інформатиці динамічне програму...</td>\n",
              "      <td>динамічне програмування - це метод для ефекти...</td>\n",
              "      <td>0</td>\n",
              "    </tr>\n",
              "    <tr>\n",
              "      <th>396</th>\n",
              "      <td>396</td>\n",
              "      <td>in mathematics and computer science dynamic pr...</td>\n",
              "      <td>in mathematics and computer science dynamic pr...</td>\n",
              "      <td>1</td>\n",
              "    </tr>\n",
              "    <tr>\n",
              "      <th>397</th>\n",
              "      <td>397</td>\n",
              "      <td>in mathematics and computer science dynamic pr...</td>\n",
              "      <td>в математиці та інформатиці динамічне програму...</td>\n",
              "      <td>1</td>\n",
              "    </tr>\n",
              "    <tr>\n",
              "      <th>398</th>\n",
              "      <td>398</td>\n",
              "      <td>в математиці та інформатиці динамічне програму...</td>\n",
              "      <td>in mathematics and computer science dynamic pr...</td>\n",
              "      <td>1</td>\n",
              "    </tr>\n",
              "    <tr>\n",
              "      <th>399</th>\n",
              "      <td>399</td>\n",
              "      <td>в математиці та інформатиці динамічне програму...</td>\n",
              "      <td>в математиці та інформатиці динамічне програму...</td>\n",
              "      <td>1</td>\n",
              "    </tr>\n",
              "  </tbody>\n",
              "</table>\n",
              "<p>400 rows × 4 columns</p>\n",
              "</div>"
            ],
            "text/plain": [
              "     Unnamed: 0  ... Target\n",
              "0             0  ...      0\n",
              "1             1  ...      0\n",
              "2             2  ...      0\n",
              "3             3  ...      0\n",
              "4             4  ...      0\n",
              "..          ...  ...    ...\n",
              "395         395  ...      0\n",
              "396         396  ...      1\n",
              "397         397  ...      1\n",
              "398         398  ...      1\n",
              "399         399  ...      1\n",
              "\n",
              "[400 rows x 4 columns]"
            ]
          },
          "metadata": {
            "tags": []
          },
          "execution_count": 75
        }
      ]
    },
    {
      "cell_type": "code",
      "metadata": {
        "colab": {
          "base_uri": "https://localhost:8080/",
          "height": 248
        },
        "id": "h4d0gf0hvR-f",
        "outputId": "a0ca4496-4d12-4901-8831-39d6198117fd"
      },
      "source": [
        "labels = 'Plagiarism', 'Non Plagiarism'\n",
        "plagiarism_size = plagiarism_df.loc[plagiarism_df['Target'] == 1].count()[\"Target\"]\n",
        "non_plagiarism_size = plagiarism_df.loc[plagiarism_df['Target'] == 0].count()[\"Target\"]\n",
        "sizes = [plagiarism_size, non_plagiarism_size]\n",
        "\n",
        "fig1, ax1 = plt.subplots()\n",
        "ax1.pie(sizes, labels=labels, autopct='%1.1f%%',\n",
        "        shadow=False, startangle=90)\n",
        "ax1.axis('equal')  # Equal aspect ratio ensures that pie is drawn as a circle.\n",
        "\n",
        "plt.show()"
      ],
      "execution_count": null,
      "outputs": [
        {
          "output_type": "display_data",
          "data": {
            "image/png": "[encoded data removed]",
            "text/plain": [
              "<Figure size 432x288 with 1 Axes>"
            ]
          },
          "metadata": {
            "tags": []
          }
        }
      ]
    },
    {
      "cell_type": "markdown",
      "metadata": {
        "id": "1U9w005B6Cui"
      },
      "source": [
        "Split data into `train`, `valid` and `test`"
      ]
    },
    {
      "cell_type": "code",
      "metadata": {
        "id": "D19VNqQc58BQ"
      },
      "source": [
        "from sklearn.model_selection import train_test_split"
      ],
      "execution_count": null,
      "outputs": []
    },
    {
      "cell_type": "code",
      "metadata": {
        "colab": {
          "base_uri": "https://localhost:8080/"
        },
        "id": "YGi3s97G6G3O",
        "outputId": "7fa22995-75c5-43df-84d6-fd2c1977ae52"
      },
      "source": [
        "train_df, remaining = train_test_split(plagiarism_df, random_state=42, train_size=0.75, stratify=plagiarism_df.Target.values)\r\n",
        "valid_df, test_df = train_test_split(remaining, random_state=42, train_size=0.8, stratify=remaining.Target.values)\r\n",
        "train_df.shape, valid_df.shape, test_df.shape"
      ],
      "execution_count": null,
      "outputs": [
        {
          "output_type": "execute_result",
          "data": {
            "text/plain": [
              "((300, 4), (80, 4), (20, 4))"
            ]
          },
          "metadata": {
            "tags": []
          },
          "execution_count": 77
        }
      ]
    },
    {
      "cell_type": "code",
      "metadata": {
        "colab": {
          "base_uri": "https://localhost:8080/"
        },
        "id": "G7zeLeVQ6J-g",
        "outputId": "152cc7ca-23c2-4e52-be02-b73cf77fc405"
      },
      "source": [
        "with tf.device('/cpu:0'):\r\n",
        "  train_data = tf.data.Dataset.from_tensor_slices((train_df['Text A'].values, train_df['Text B'].values, train_df['Target'].values))\r\n",
        "  valid_data = tf.data.Dataset.from_tensor_slices((valid_df['Text A'].values, valid_df['Text B'].values, valid_df['Target'].values))\r\n",
        "  test_data = tf.data.Dataset.from_tensor_slices((test_df['Text A'].values, test_df['Text B'].values, test_df['Target'].values))\r\n",
        "\r\n",
        "  for text_a, text_b, label in train_data.take(1):\r\n",
        "    print(text_a.numpy().decode(\"utf-8\"))\r\n",
        "    print(text_b)\r\n",
        "    print(label)\r\n",
        "\r\n",
        "  # train\r\n",
        "  train_data = data_generator(train_data, shuffle=True, batch_size=4)\r\n",
        "  # valid\r\n",
        "  valid_data = data_generator(valid_data, batch_size=4) \r\n",
        "  # test\r\n",
        "  test_data = data_generator(test_data, batch_size=4) "
      ],
      "execution_count": null,
      "outputs": [
        {
          "output_type": "stream",
          "text": [
            "векторна космічна модель або термін Векторна модель - це алгебраїчна модель для представлення текстових документів та будь-яких об'єктів загалом як векторів ідентифікаторів, таких як, наприклад, терміни індексу; вона використовується у фільтрації інформації, індексація пошуку інформації та рейтинги відповідності, її перше використання було в розумній інформації система пошуку документ представлений у вигляді вектора, кожному виміру відповідає окремий термін, якщо термін зустрічається в документі, його значення у векторі не дорівнює нулю, кілька різних способів обчислення цих значень, також відомих як ваги термінів, були розроблені одним з найкращих відомі схеми tf idf зважування див. приклад нижче визначення терміна залежить від застосування, як правило, терміни - це окремі слова, ключові слова або довші фрази, якщо слова обрані як терміни, розмірність вектора - це кількість слів у словниковому запасі. Кількість різних слів, що зустрічаються в корпусі, векторна космічна модель має такі обмеження довгих документів ar Мало представлені, оскільки вони мають погані значення схожості, невеликий скалярний продукт і велика розмірність ключових слів для пошуку повинні точно відповідати термінам документа, підряди слів можуть призвести до помилково позитивного збігу документів семантичної чутливості з подібним контекстом, але різний словниковий запас не буде пов’язаний, що призведе до хибно-негативний збіг з порядком, у якому терміни відображаються в документі, втрачається у поданні векторного простору\n",
            "tf.Tensor(b'vector space model or term vector model as it is also known is an algebraic model for representing objects although it is mainly used for text documents as vectors of identifiers for example index terms it is used in information retrieval and filtering indexing and relevancy rankings and was first used in the smart information retrieval system  a document is represented as a vector with each dimension corresponding to a separate term if a term occurs in the document the value will be non zero in the vector many different ways of computing these values aka term weights have been developed one of the best known schemes is tf idf weighting  the way that a term is defined depends on the application typically terms are single words keywords or sometimes even longer phrases if the words are chosen as the terms the number of dimensions in the vector is the number of distinct words in the corpus  relevancy ranks for documents in a keyword search can be calculated this uses the assumptions of document similarities theory by comparing the difference of angles between each document vector and the original query vector where the query is represented as same format vector as the documents  generally it is easier to calculate the cosine of the angle between the vectors instead of the angle itself a zero value for the cosine indicates that the query and document vector are orthogonal and so had no match this means the query term did not exist in the document being considered  however the vector space model has limitations long documents are poorly represented due to their poor similarity values a small scalar product and a large dimensionality  search keywords must match precisely the document terms word substrings might result in a false positive match  similar context documents but different term vocabulary won t be associated leading to a false negative match  and the order that the terms appear in the document is not represented in the vector space model ', shape=(), dtype=string)\n",
            "tf.Tensor(1, shape=(), dtype=int64)\n"
          ],
          "name": "stdout"
        }
      ]
    },
    {
      "cell_type": "code",
      "metadata": {
        "colab": {
          "base_uri": "https://localhost:8080/"
        },
        "id": "AE6Nimn_6rBV",
        "outputId": "339737e4-fc09-473e-80ec-2626f8175e6f"
      },
      "source": [
        "# train data spec\r\n",
        "train_data.element_spec"
      ],
      "execution_count": null,
      "outputs": [
        {
          "output_type": "execute_result",
          "data": {
            "text/plain": [
              "({'input_mask': TensorSpec(shape=(4, 128), dtype=tf.int32, name=None),\n",
              "  'input_type_ids': TensorSpec(shape=(4, 128), dtype=tf.int32, name=None),\n",
              "  'input_word_ids': TensorSpec(shape=(4, 128), dtype=tf.int32, name=None)},\n",
              " TensorSpec(shape=(4,), dtype=tf.int32, name=None))"
            ]
          },
          "metadata": {
            "tags": []
          },
          "execution_count": 33
        }
      ]
    },
    {
      "cell_type": "code",
      "metadata": {
        "colab": {
          "base_uri": "https://localhost:8080/"
        },
        "id": "A55mLcWl6s5C",
        "outputId": "d8999fc0-8c0e-4e57-9f33-bf7d790762aa"
      },
      "source": [
        "# valid data spec\r\n",
        "valid_data.element_spec"
      ],
      "execution_count": null,
      "outputs": [
        {
          "output_type": "execute_result",
          "data": {
            "text/plain": [
              "({'input_mask': TensorSpec(shape=(4, 128), dtype=tf.int32, name=None),\n",
              "  'input_type_ids': TensorSpec(shape=(4, 128), dtype=tf.int32, name=None),\n",
              "  'input_word_ids': TensorSpec(shape=(4, 128), dtype=tf.int32, name=None)},\n",
              " TensorSpec(shape=(4,), dtype=tf.int32, name=None))"
            ]
          },
          "metadata": {
            "tags": []
          },
          "execution_count": 34
        }
      ]
    },
    {
      "cell_type": "code",
      "metadata": {
        "colab": {
          "base_uri": "https://localhost:8080/"
        },
        "id": "hlULc7Vv6tL4",
        "outputId": "09a9ef2a-86d3-4f83-d030-22756ab1ff54"
      },
      "source": [
        "# test data spec\r\n",
        "test_data.element_spec"
      ],
      "execution_count": null,
      "outputs": [
        {
          "output_type": "execute_result",
          "data": {
            "text/plain": [
              "({'input_mask': TensorSpec(shape=(4, 128), dtype=tf.int32, name=None),\n",
              "  'input_type_ids': TensorSpec(shape=(4, 128), dtype=tf.int32, name=None),\n",
              "  'input_word_ids': TensorSpec(shape=(4, 128), dtype=tf.int32, name=None)},\n",
              " TensorSpec(shape=(4,), dtype=tf.int32, name=None))"
            ]
          },
          "metadata": {
            "tags": []
          },
          "execution_count": 35
        }
      ]
    },
    {
      "cell_type": "code",
      "metadata": {
        "id": "HW-nJXj06M4A"
      },
      "source": [
        "batch_size = 4"
      ],
      "execution_count": null,
      "outputs": []
    },
    {
      "cell_type": "code",
      "metadata": {
        "colab": {
          "base_uri": "https://localhost:8080/"
        },
        "id": "59ePDSm86QKY",
        "outputId": "9fb63d48-0267-4578-eeaf-fd2537210d22"
      },
      "source": [
        "# load model\r\n",
        "base_model = tf.keras.models.load_model(\"/content/gdrive/My Drive/semantic_binary_multilang_classification1_model.h5\", custom_objects={'KerasLayer': hub.KerasLayer})\r\n",
        "base_model.summary()"
      ],
      "execution_count": null,
      "outputs": [
        {
          "output_type": "stream",
          "text": [
            "Model: \"functional_1\"\n",
            "__________________________________________________________________________________________________\n",
            "Layer (type)                    Output Shape         Param #     Connected to                     \n",
            "==================================================================================================\n",
            "input_mask (InputLayer)         [(None, 128)]        0                                            \n",
            "__________________________________________________________________________________________________\n",
            "input_type_ids (InputLayer)     [(None, 128)]        0                                            \n",
            "__________________________________________________________________________________________________\n",
            "input_word_ids (InputLayer)     [(None, 128)]        0                                            \n",
            "__________________________________________________________________________________________________\n",
            "keras_layer (KerasLayer)        {'sequence_output':  177853441   input_mask[0][0]                 \n",
            "                                                                 input_type_ids[0][0]             \n",
            "                                                                 input_word_ids[0][0]             \n",
            "__________________________________________________________________________________________________\n",
            "dropout (Dropout)               (None, 768)          0           keras_layer[0][13]               \n",
            "__________________________________________________________________________________________________\n",
            "output (Dense)                  (None, 1)            769         dropout[0][0]                    \n",
            "==================================================================================================\n",
            "Total params: 177,854,210\n",
            "Trainable params: 177,854,209\n",
            "Non-trainable params: 1\n",
            "__________________________________________________________________________________________________\n"
          ],
          "name": "stdout"
        }
      ]
    },
    {
      "cell_type": "code",
      "metadata": {
        "colab": {
          "base_uri": "https://localhost:8080/"
        },
        "id": "aA41jrv56XKo",
        "outputId": "212d660d-e8c7-49df-eec9-82e3c38e8d18"
      },
      "source": [
        "model = create_model(base_model, droput = False)\r\n",
        "model.summary()"
      ],
      "execution_count": null,
      "outputs": [
        {
          "output_type": "stream",
          "text": [
            "Model: \"functional_7\"\n",
            "__________________________________________________________________________________________________\n",
            "Layer (type)                    Output Shape         Param #     Connected to                     \n",
            "==================================================================================================\n",
            "input_mask (InputLayer)         [(None, 128)]        0                                            \n",
            "__________________________________________________________________________________________________\n",
            "input_type_ids (InputLayer)     [(None, 128)]        0                                            \n",
            "__________________________________________________________________________________________________\n",
            "input_word_ids (InputLayer)     [(None, 128)]        0                                            \n",
            "__________________________________________________________________________________________________\n",
            "functional_1 (Functional)       (None, 1)            177854210   input_mask[0][0]                 \n",
            "                                                                 input_type_ids[0][0]             \n",
            "                                                                 input_word_ids[0][0]             \n",
            "==================================================================================================\n",
            "Total params: 177,854,210\n",
            "Trainable params: 177,854,209\n",
            "Non-trainable params: 1\n",
            "__________________________________________________________________________________________________\n"
          ],
          "name": "stdout"
        }
      ]
    },
    {
      "cell_type": "code",
      "metadata": {
        "colab": {
          "base_uri": "https://localhost:8080/",
          "height": 163
        },
        "id": "RuK5wJ_W644Z",
        "outputId": "74f82f08-9b57-44d4-f504-e13f456ef66d"
      },
      "source": [
        "plot_model(model)"
      ],
      "execution_count": null,
      "outputs": [
        {
          "output_type": "display_data",
          "data": {
            "image/png": "[encoded data removed]",
            "text/plain": [
              "<IPython.core.display.Image object>"
            ]
          },
          "metadata": {
            "tags": []
          }
        }
      ]
    },
    {
      "cell_type": "code",
      "metadata": {
        "colab": {
          "base_uri": "https://localhost:8080/"
        },
        "id": "IomCqE7G69pY",
        "outputId": "da8b7329-d166-4940-e04b-999d93165d34"
      },
      "source": [
        "# Train model\r\n",
        "epochs = 4 # it has overfit after the 4th epoch, see val_loss\r\n",
        "history = model.fit(\r\n",
        "    train_data,\r\n",
        "    validation_data=valid_data,\r\n",
        "    epochs=epochs,\r\n",
        "    use_multiprocessing=True,\r\n",
        "    workers=-1,\r\n",
        ")"
      ],
      "execution_count": null,
      "outputs": [
        {
          "output_type": "stream",
          "text": [
            "Epoch 1/4\n",
            "75/75 [==============================] - 14s 185ms/step - loss: 0.0386 - binary_accuracy: 0.9767 - val_loss: 0.0457 - val_binary_accuracy: 0.9750\n",
            "Epoch 2/4\n",
            "75/75 [==============================] - 14s 184ms/step - loss: 0.0179 - binary_accuracy: 0.9933 - val_loss: 0.0053 - val_binary_accuracy: 1.0000\n",
            "Epoch 3/4\n",
            "75/75 [==============================] - 14s 183ms/step - loss: 3.8499e-04 - binary_accuracy: 1.0000 - val_loss: 0.0109 - val_binary_accuracy: 0.9875\n",
            "Epoch 4/4\n",
            "75/75 [==============================] - 14s 182ms/step - loss: 2.0539e-04 - binary_accuracy: 1.0000 - val_loss: 0.0038 - val_binary_accuracy: 1.0000\n"
          ],
          "name": "stdout"
        }
      ]
    },
    {
      "cell_type": "code",
      "metadata": {
        "id": "g2Xl5n567Am-",
        "colab": {
          "base_uri": "https://localhost:8080/",
          "height": 279
        },
        "outputId": "cd5e425a-4b3c-4b4f-8641-79b4a6377ea5"
      },
      "source": [
        "plot_graphs(history, 'loss')"
      ],
      "execution_count": null,
      "outputs": [
        {
          "output_type": "display_data",
          "data": {
            "image/png": "[encoded data removed]",
            "text/plain": [
              "<Figure size 432x288 with 1 Axes>"
            ]
          },
          "metadata": {
            "tags": [],
            "needs_background": "light"
          }
        }
      ]
    },
    {
      "cell_type": "code",
      "metadata": {
        "id": "jHN8Azq87DgN",
        "colab": {
          "base_uri": "https://localhost:8080/",
          "height": 279
        },
        "outputId": "a520a018-6197-4cf0-e8c7-b5fc670f5392"
      },
      "source": [
        "plot_graphs(history, 'binary_accuracy')"
      ],
      "execution_count": null,
      "outputs": [
        {
          "output_type": "display_data",
          "data": {
            "image/png": "[encoded data removed]",
            "text/plain": [
              "<Figure size 432x288 with 1 Axes>"
            ]
          },
          "metadata": {
            "tags": [],
            "needs_background": "light"
          }
        }
      ]
    },
    {
      "cell_type": "code",
      "metadata": {
        "id": "rBRerV-_7H8S",
        "colab": {
          "base_uri": "https://localhost:8080/"
        },
        "outputId": "07b27de6-be83-4e31-c07d-c8814d6bfc31"
      },
      "source": [
        "model.save(\"/content/gdrive/My Drive/plagiarism_binary_multilang_classification1_model.h5\")\r\n",
        "print(\"Model was saved to google disk\")"
      ],
      "execution_count": null,
      "outputs": [
        {
          "output_type": "stream",
          "text": [
            "Model was saved to google disk\n"
          ],
          "name": "stdout"
        }
      ]
    },
    {
      "cell_type": "code",
      "metadata": {
        "colab": {
          "base_uri": "https://localhost:8080/"
        },
        "id": "MkIvbS8TzOcf",
        "outputId": "cb8eb198-f7ac-4fd8-9e9b-0d0d43a976cb"
      },
      "source": [
        "from sklearn.metrics import classification_report\n",
        "\n",
        "y_test = test_df['Target'].values[:test_df.shape[0]]\n",
        "threshold = 0.7 #between 0 and 1\n",
        "\n",
        "y_pred = model.predict(test_data, batch_size=4, verbose=1)\n",
        "y_pred_bool = [1 if pred >= threshold else 0 for pred in y_pred]\n",
        "print(classification_report(y_test, y_pred_bool))\n",
        "\n",
        "from sklearn.metrics import f1_score, precision_score, recall_score, confusion_matrix\n",
        "\n",
        "# Print f1, precision, and recall scores\n",
        "print(\"Precision: \", precision_score(y_test, y_pred_bool , average=\"macro\"))\n",
        "print(\"Recall score: \", recall_score(y_test, y_pred_bool , average=\"macro\"))\n",
        "print(\"F1 score: \", f1_score(y_test, y_pred_bool , average=\"macro\"))"
      ],
      "execution_count": null,
      "outputs": [
        {
          "output_type": "stream",
          "text": [
            "5/5 [==============================] - 0s 48ms/step\n",
            "              precision    recall  f1-score   support\n",
            "\n",
            "           0       1.00      1.00      1.00         8\n",
            "           1       1.00      1.00      1.00        12\n",
            "\n",
            "    accuracy                           1.00        20\n",
            "   macro avg       1.00      1.00      1.00        20\n",
            "weighted avg       1.00      1.00      1.00        20\n",
            "\n",
            "Precision:  1.0\n",
            "Recall score:  1.0\n",
            "F1 score:  1.0\n"
          ],
          "name": "stdout"
        }
      ]
    },
    {
      "cell_type": "code",
      "metadata": {
        "colab": {
          "base_uri": "https://localhost:8080/"
        },
        "id": "Pxkb-rHPkWLl",
        "outputId": "2d4a431b-0737-4770-ab14-2b1808ec42a7"
      },
      "source": [
        "model = tf.keras.models.load_model(\"/content/gdrive/My Drive/plagiarism_binary_multilang_classification1_model.h5\", custom_objects={'KerasLayer': hub.KerasLayer})\n",
        "model.summary()"
      ],
      "execution_count": null,
      "outputs": [
        {
          "output_type": "stream",
          "text": [
            "Model: \"functional_7\"\n",
            "__________________________________________________________________________________________________\n",
            "Layer (type)                    Output Shape         Param #     Connected to                     \n",
            "==================================================================================================\n",
            "input_mask (InputLayer)         [(None, 128)]        0                                            \n",
            "__________________________________________________________________________________________________\n",
            "input_type_ids (InputLayer)     [(None, 128)]        0                                            \n",
            "__________________________________________________________________________________________________\n",
            "input_word_ids (InputLayer)     [(None, 128)]        0                                            \n",
            "__________________________________________________________________________________________________\n",
            "functional_1 (Functional)       (None, 1)            177854210   input_mask[0][0]                 \n",
            "                                                                 input_type_ids[0][0]             \n",
            "                                                                 input_word_ids[0][0]             \n",
            "==================================================================================================\n",
            "Total params: 177,854,210\n",
            "Trainable params: 177,854,209\n",
            "Non-trainable params: 1\n",
            "__________________________________________________________________________________________________\n"
          ],
          "name": "stdout"
        }
      ]
    },
    {
      "cell_type": "code",
      "metadata": {
        "id": "cnyL99QMzlG2"
      },
      "source": [
        "def check_plagiarism(text_a, text_b, model=model):\n",
        "\n",
        "    assert len(text_a) == len(text_b)\n",
        "\n",
        "    text_a = list(map(lambda x: process_text(x), text_a))\n",
        "    text_b = list(map(lambda x: process_text(x), text_b))\n",
        "\n",
        "    test_data = tf.data.Dataset.from_tensor_slices((text_a, text_b, [0]*len(text_a)))\n",
        "    test_data = (test_data.map(to_feature_map).batch(1))\n",
        "    preds = model.predict(test_data)\n",
        "\n",
        "    # return [(labels[np.argmax(proba)], f\"{proba[np.argmax(proba)]: .2f}%\") for proba in preds]\n",
        "\n",
        "    preds = model.predict(test_data)\n",
        "    threshold = 0.7 #between 0 and 1\n",
        "    return [(\"{:.2f}%\".format(pred[0]*100), labels[1] if pred >= threshold else labels[0], text_a[i], text_b[i]) for i, pred in enumerate(preds)]"
      ],
      "execution_count": null,
      "outputs": []
    },
    {
      "cell_type": "code",
      "metadata": {
        "colab": {
          "base_uri": "https://localhost:8080/"
        },
        "id": "GMkv_NGhzZWZ",
        "outputId": "3a116e5d-1ebe-45db-d4a5-1162b92bddd4"
      },
      "source": [
        "# orig\n",
        "big_text_a1 = \"\"\"In object-oriented programming, inheritance is a way to form new classes (instances of which are called objects) using classes that have already been defined. The inheritance concept was invented in 1967 for Simula.\n",
        "\n",
        "The new classes, known as derived classes, take over (or inherit) attributes and behavior of the pre-existing classes, which are referred to as base classes (or ancestor classes). It is intended to help reuse existing code with little or no modification.\n",
        "\n",
        "Inheritance provides the support for representation by categorization in computer languages. Categorization is a powerful mechanism number of information processing, crucial to human learning by means of generalization (what is known about specific entities is applied to a wider group given a belongs relation can be established) and cognitive economy (less information needs to be stored about each specific entity, only its particularities).\n",
        "\n",
        "Inheritance is also sometimes called generalization, because the is-a relationships represent a hierarchy between classes of objects. For instance, a \"fruit\" is a generalization of \"apple\", \"orange\", \"mango\" and many others. One can consider fruit to be an abstraction of apple, orange, etc. Conversely, since apples are fruit (i.e., an apple is-a fruit), apples may naturally inherit all the properties common to all fruit, such as being a fleshy container for the seed of a plant.\n",
        "\n",
        "An advantage of inheritance is that modules with sufficiently similar interfaces can share a lot of code, reducing the complexity of the program. Inheritance therefore has another view, a dual, called polymorphism, which describes many pieces of code being controlled by shared control code.\n",
        "Inheritance is typically accomplished either by overriding (replacing) one or more methods exposed by ancestor, or by adding new methods to those exposed by an ancestor.\n",
        "\n",
        "Complex inheritance, or inheritance used within a design that is not sufficiently mature, may lead to the Yo-yo problem.\"\"\"\n",
        "# heavy\n",
        "big_text_b1 = \"\"\"\n",
        "inheritance in object oriented programming is where a new class is formed using classes which have allready been defined. \n",
        "These classes have have some of the behavior and attributes which where existent in the classes that it inherited from. \n",
        "The peropos of inheritance in object oriented programming is to minimize the reuse of existing code without modification.\n",
        "\n",
        "Inheritance allowes classes to be categorized, similer to the way humans catagorize. It also provides a way to generalize du to the \"is a\" relationship between classes. For example a \"cow\" is a generalization of \"animal\" similarly so are \"pigs\" & cheaters\". Defeining classes in this way, allows us to define attributes and behaviours which are commen to all animals in one class, so cheaters would natuarly inheart properities commen to all animals.\n",
        "\n",
        "The advantage of inheritance is that classes which would otherwise have alot of similar code , can instead shair the same code, thus reducing the complexity of the program. Inheritance, therefore, can also be refered to as polymorphism which is where many pieces of code are controled by shared control code.\n",
        "\n",
        "Inheritance can be accomplished by overriding methods in its ancestor, or by adding new methods. \n",
        "\"\"\"\n",
        "# cut\n",
        "big_text_b2 = \"\"\"\n",
        "Inheritance in object oriented programming is a way to form new classes using classes that have already been defined. The new classes, known as derived classes, inherit attributes and behaviour of the existing classes, which are referred to as base classes. With little or no modification, it is intended to help reuse existing code. It is typically accomplished either by overriding one or more methods exposed by ancestor, or by adding new methods to those exposed by an ancestor\n",
        "\n",
        "Inheritance is also sometimes called generalization, because there is-a relationships represent a hierarchy between classes of objects. A ‘fruit’, for instance, is a generalization of \"orange\", \"mango\", \"apples\" and many others. One can consider fruit to be an abstraction of apple, orange, etc. Since apples are fruit (i.e., an apple is-a fruit), conversely apples may naturally inherit all the properties common to all fruit, such as being a fleshy container for the seed of a plant.\n",
        "\n",
        "An advantage of inheritance is that modules with sufficiently similar interfaces can share a lot of code reducing the complexity of the program. \n",
        "\"\"\"\n",
        "\n",
        "#non\n",
        "big_text_b3 = \"\"\"\n",
        "In object oriented programming, objects are grouped together into classes according to their type, structure and the functions that can be performed on them. Inheritance is a process in object oriented programming in which objects acquire (or inherit) the properties of objects of another class. It is therefore used to create relationships between one object and another. Each class groups together objects of a similar type, with similar properties. New classes can be formed by this process whose objects will have properties of both the classes from which this new class is formed. A superclass has all of the properties of the subclasses below it. At the same time subclasses are each distinctive from each other but related via the superclass. Subclasses are said to ‘extend’ superclasses. Due to these relationships, object oriented programmes tend to be easier to modify since they do not need to be changed when a new object, with different properties is added. Instead, a new object is made to inherit properties of objects which already exist. Inheritance can be divided into two main processes: single inheritance and multiple inheritance. Single inheritance means that the class can only inherit from one other class, whereas multiple inheritance allows for inheritance from several classes.\n",
        "\n",
        "\"\"\"\n",
        "\n",
        "# orig text translated English -> Russian -> Ukrainian -> German -> English\n",
        "big_text_b4 = \"\"\"\n",
        "In object-oriented programming, inheritance is a way of creating new classes (of which instances are referred to as objects) using classes that have already been defined. The concept of inheritance was invented for Simula in 1967.\n",
        "\n",
        "New classes, called descendant classes, inherit (or inherit) the attributes and behavior of existing classes called base classes (or ancestral classes). It is designed to reuse existing code with or without minor changes.\n",
        "\n",
        "Inheritance provides representation support through categorization in computer languages. Categorization is a powerful information handling mechanism that works for human learning through generalization (what is known about certain objects is applied to a broader group if a membership can be made) and cognitive economy (less information needs to be stored) about each particular Entity is critical. only its properties).\n",
        "\n",
        "Inheritance is sometimes referred to as generalization because the relationship is a hierarchy between object classes. For example, \"fruit\" is a generalization of the words \"apple\", \"orange\", \"mango\" and many others. Fruit can be thought of as an abstraction from apple, orange, etc. Of course, since apples are fruit (that is, an apple is a fruit), apples can inherit all of the properties common to all fruits, such as: B. a meaty container. for plant seeds.\n",
        "\n",
        "The advantage of inheritance is that modules with fairly similar interfaces can share a large amount of code, which reduces the complexity of the program. So imitation has a different concept, a double one, called polymorphism, which describes many code fragments that are controlled by a common control code.\n",
        "Inheritance is usually done either by redefining (replacing) one or more ancestral methods or by adding new methods to the ancestral methods.\n",
        "\n",
        "Complex inheritance, or inheritance used in an immature design, can create a yo-yo problem.\n",
        "\"\"\"\n",
        "# original from https://medium.com/javascript-scene/master-the-javascript-interview-what-is-functional-programming-7f218c68b3a0#:~:text=Functional%20programming%20(often%20abbreviated%20FP,state%20flows%20through%20pure%20functions.\n",
        "big_text_a2 = \"\"\"\n",
        "Functional programming (often abbreviated FP) is the process of building software by composing pure functions, avoiding shared state, mutable data, and side-effects. \n",
        "Functional programming is declarative rather than imperative, and application state flows through pure functions. Contrast with object oriented programming, where application state is usually shared and colocated with methods in objects.\n",
        "Functional programming is a programming paradigm, meaning that it is a way of thinking about software construction based on some fundamental, defining principles (listed above).\n",
        "\"\"\"\n",
        "# paraphrase\n",
        "big_text_b5 = \"\"\"\n",
        "Functional programming is a programming paradigm, that allows to develop software by composing functions, keeping away from shared state, mutable data and side-effects.\n",
        "In functional programming application state goes through pure functions. This paradigm is opposite to applications that were built using the object oriented programming. State in those applications is often shared and compiled with methods in objects.\n",
        "Functional programming is rather a way of thinking about developing software based on fundamental rules.\n",
        "\"\"\"\n",
        "# original from https://marketbusinessnews.com/financial-glossary/manager-definition-meaning/\n",
        "big_text_a3 = \"\"\"\n",
        "A manager is a person who is responsible for a part of a company, i.e., they ‘manage‘ the company. \n",
        "Managers may be in charge of a department and the people who work in it. In some cases, the manager is in charge of the whole business. \n",
        "The Manager’s duties also include managing employees or a section of the company on a day-to-day basis.\n",
        "\"\"\"\n",
        "# paraphrase\n",
        "big_text_b6 = \"\"\"\n",
        "A manager is a person responsible for controlling or administering an organization or group of staff.\n",
        "Managers could be responsible for a part of the company and the employers who work there. Sometimes the manager is a head of the whole company.\n",
        "Reponsibilities of the manager include control workers or lead a part of the company too.\n",
        "\"\"\"\n",
        "# original from https://marketbusinessnews.com/financial-glossary/manager-definition-meaning/\n",
        "# with extra sentence\n",
        "big_text_a4 = \"\"\"\n",
        "A manager is a person who is responsible for a part of a company, i.e., they ‘manage‘ the company. \n",
        "Managers may be in charge of a department and the people who work in it. In some cases, the manager is in charge of the whole business. \n",
        "The Manager’s duties also include managing employees or a section of the company on a day-to-day basis.\n",
        "For example, a restaurant manager is in charge of the whole restaurant.\n",
        "\"\"\"\n",
        "# paraphrase\n",
        "big_text_b7 = \"\"\"\n",
        "A manager is a person responsible for controlling or administering an organization or group of staff.\n",
        "Managers could be responsible for a part of the company and the employers who work there. Sometimes the manager is a head of the whole company.\n",
        "Reponsibilities of the manager include control workers or lead a part of the company too.\n",
        "For instance, a store manager is responsible for the whole store.\n",
        "\"\"\"\n",
        "# original wikipedia\n",
        "big_text_a5 = \"\"\"\n",
        "In mathematics and statistics, the arithmetic mean, or simply the mean or the average (when the context is clear), is the sum of a collection of numbers divided by the count of numbers in the collection.\n",
        "\"\"\"\n",
        "\n",
        "# original wikipedia uk\n",
        "big_text_b8 = \"\"\"\n",
        "Арифметичне середнє (в математиці і статистиці) — сума всіх фіксованих значень набору, поділена на кількість елементів набору\n",
        "\"\"\"\n",
        "# original wikipedia\n",
        "big_text_a6 = \"\"\"\n",
        "Тара́с Григо́рович Шевче́нко (відомий також як Кобза́р; 25 лютого (9 березня) 1814, с. Моринці, Київська губернія, Російська імперія (нині Звенигородський район, Черкаська область, Україна) — 26 лютого (10 березня) 1861, Санкт-Петербург, Російська імперія) — український письменник, класик української літератури, мислитель, художник. Національний герой і символ України.\n",
        "\"\"\"\n",
        "big_text_b9 = \"\"\"\n",
        "Franklin Delano Roosevelt (/ˈroʊzəvəlt/,[1] /-vɛlt/[2] ROH-zə-velt; January 30, 1882 – April 12, 1945), often referred to by his initials FDR, was an American politician who was the 32nd president of the United States from 1933 until his death in 1945. A member of the Democratic Party, he won a record four presidential elections and became a central figure in world events during the first half of the 20th century. \n",
        "\"\"\"\n",
        "text_a = [\"Hello world\", \"Менеджер це людина, що відповідальна за компанію\", \"A smiling costumed woman is holding an umbrella\",  \n",
        "          big_text_a1, big_text_a1, big_text_a1, big_text_a1, big_text_a2, big_text_a3, big_text_a4, big_text_a5, big_text_a6]\n",
        "text_b = [\"Hello world\", \"Manager is a person responsibe for a company\", \"A happy woman in a fairy costume holds an umbrella\", \n",
        "          big_text_b1, big_text_b2, big_text_b3, big_text_b4, big_text_b5, big_text_b6, big_text_b7, big_text_b8, big_text_b9]\n",
        "check_plagiarism(text_a, text_b)"
      ],
      "execution_count": null,
      "outputs": [
        {
          "output_type": "execute_result",
          "data": {
            "text/plain": [
              "[('99.96%', 'plagiarism', 'hello world', 'hello world'),\n",
              " ('99.99%',\n",
              "  'plagiarism',\n",
              "  'менеджер це людина, що відповідальна за компанию',\n",
              "  'manager is a person responsibe for a company'),\n",
              " ('96.06%',\n",
              "  'plagiarism',\n",
              "  'a smiling costumed woman is holding an umbrella',\n",
              "  'a happy woman in a fairy costume holds an umbrella'),\n",
              " ('100.00%',\n",
              "  'plagiarism',\n",
              "  'in object-oriented programming, inheritance is a way to form new classes (instances of which are called objects) using classes that have already been defined. the inheritance concept was invented in for simula. the new classes, known as derived classes, take over (or inherit) attributes and behavior of the pre-existing classes, which are referred to as base classes (or ancestor classes). it is intended to help reuse existing code with little or no modification. inheritance provides the support for representation by categorization in computer languages. categorization is a powerful mechanism number of information processing, crucial to human learning by means of generalization (what is known about specific entities is applied to a wider group given a belongs relation can be established) and cognitive economy (less information needs to be stored about each specific entity, only its particularities). inheritance is also sometimes called generalization, because the is-a relationships represent a hierarchy between classes of objects. for instance, a \"fruit\" is a generalization of \"apple\", \"orange\", \"mango\" and many others. one can consider fruit to be an abstraction of apple, orange, etc. conversely, since apples are fruit (i.e., an apple is-a fruit), apples may naturally inherit all the properties common to all fruit, such as being a fleshy container for the seed of a plant. an advantage of inheritance is that modules with sufficiently similar interfaces can share a lot of code, reducing the complexity of the program. inheritance therefore has another view, a dual, called polymorphism, which describes many pieces of code being controlled by shared control code. inheritance is typically accomplished either by overriding (replacing) one or more methods exposed by ancestor, or by adding new methods to those exposed by an ancestor. complex inheritance, or inheritance used within a design that is not sufficiently mature, may lead to the yo-yo problem.',\n",
              "  ' inheritance in object oriented programming is where a new class is formed using classes which have allready been defined. these classes have have some of the behavior and attributes which where existent in the classes that it inherited from. the peropos of inheritance in object oriented programming is to minimize the reuse of existing code without modification. inheritance allowes classes to be categorized, similer to the way humans catagorize. it also provides a way to generalize du to the \"is a\" relationship between classes. for example a \"cow\" is a generalization of \"animal\" similarly so are \"pigs\" & cheaters\". defeining classes in this way, allows us to define attributes and behaviours which are commen to all animals in one class, so cheaters would natuarly inheart properities commen to all animals. the advantage of inheritance is that classes which would otherwise have alot of similar code , can instead shair the same code, thus reducing the complexity of the program. inheritance, therefore, can also be refered to as polymorphism which is where many pieces of code are controled by shared control code. inheritance can be accomplished by overriding methods in its ancestor, or by adding new methods. '),\n",
              " ('100.00%',\n",
              "  'plagiarism',\n",
              "  'in object-oriented programming, inheritance is a way to form new classes (instances of which are called objects) using classes that have already been defined. the inheritance concept was invented in for simula. the new classes, known as derived classes, take over (or inherit) attributes and behavior of the pre-existing classes, which are referred to as base classes (or ancestor classes). it is intended to help reuse existing code with little or no modification. inheritance provides the support for representation by categorization in computer languages. categorization is a powerful mechanism number of information processing, crucial to human learning by means of generalization (what is known about specific entities is applied to a wider group given a belongs relation can be established) and cognitive economy (less information needs to be stored about each specific entity, only its particularities). inheritance is also sometimes called generalization, because the is-a relationships represent a hierarchy between classes of objects. for instance, a \"fruit\" is a generalization of \"apple\", \"orange\", \"mango\" and many others. one can consider fruit to be an abstraction of apple, orange, etc. conversely, since apples are fruit (i.e., an apple is-a fruit), apples may naturally inherit all the properties common to all fruit, such as being a fleshy container for the seed of a plant. an advantage of inheritance is that modules with sufficiently similar interfaces can share a lot of code, reducing the complexity of the program. inheritance therefore has another view, a dual, called polymorphism, which describes many pieces of code being controlled by shared control code. inheritance is typically accomplished either by overriding (replacing) one or more methods exposed by ancestor, or by adding new methods to those exposed by an ancestor. complex inheritance, or inheritance used within a design that is not sufficiently mature, may lead to the yo-yo problem.',\n",
              "  ' inheritance in object oriented programming is a way to form new classes using classes that have already been defined. the new classes, known as derived classes, inherit attributes and behaviour of the existing classes, which are referred to as base classes. with little or no modification, it is intended to help reuse existing code. it is typically accomplished either by overriding one or more methods exposed by ancestor, or by adding new methods to those exposed by an ancestor inheritance is also sometimes called generalization, because there is-a relationships represent a hierarchy between classes of objects. a ‘fruit’, for instance, is a generalization of \"orange\", \"mango\", \"apples\" and many others. one can consider fruit to be an abstraction of apple, orange, etc. since apples are fruit (i.e., an apple is-a fruit), conversely apples may naturally inherit all the properties common to all fruit, such as being a fleshy container for the seed of a plant. an advantage of inheritance is that modules with sufficiently similar interfaces can share a lot of code reducing the complexity of the program. '),\n",
              " ('0.85%',\n",
              "  'non',\n",
              "  'in object-oriented programming, inheritance is a way to form new classes (instances of which are called objects) using classes that have already been defined. the inheritance concept was invented in for simula. the new classes, known as derived classes, take over (or inherit) attributes and behavior of the pre-existing classes, which are referred to as base classes (or ancestor classes). it is intended to help reuse existing code with little or no modification. inheritance provides the support for representation by categorization in computer languages. categorization is a powerful mechanism number of information processing, crucial to human learning by means of generalization (what is known about specific entities is applied to a wider group given a belongs relation can be established) and cognitive economy (less information needs to be stored about each specific entity, only its particularities). inheritance is also sometimes called generalization, because the is-a relationships represent a hierarchy between classes of objects. for instance, a \"fruit\" is a generalization of \"apple\", \"orange\", \"mango\" and many others. one can consider fruit to be an abstraction of apple, orange, etc. conversely, since apples are fruit (i.e., an apple is-a fruit), apples may naturally inherit all the properties common to all fruit, such as being a fleshy container for the seed of a plant. an advantage of inheritance is that modules with sufficiently similar interfaces can share a lot of code, reducing the complexity of the program. inheritance therefore has another view, a dual, called polymorphism, which describes many pieces of code being controlled by shared control code. inheritance is typically accomplished either by overriding (replacing) one or more methods exposed by ancestor, or by adding new methods to those exposed by an ancestor. complex inheritance, or inheritance used within a design that is not sufficiently mature, may lead to the yo-yo problem.',\n",
              "  ' in object oriented programming, objects are grouped together into classes according to their type, structure and the functions that can be performed on them. inheritance is a process in object oriented programming in which objects acquire (or inherit) the properties of objects of another class. it is therefore used to create relationships between one object and another. each class groups together objects of a similar type, with similar properties. new classes can be formed by this process whose objects will have properties of both the classes from which this new class is formed. a superclass has all of the properties of the subclasses below it. at the same time subclasses are each distinctive from each other but related via the superclass. subclasses are said to ‘extend’ superclasses. due to these relationships, object oriented programmes tend to be easier to modify since they do not need to be changed when a new object, with different properties is added. instead, a new object is made to inherit properties of objects which already exist. inheritance can be divided into two main processes: single inheritance and multiple inheritance. single inheritance means that the class can only inherit from one other class, whereas multiple inheritance allows for inheritance from several classes. '),\n",
              " ('100.00%',\n",
              "  'plagiarism',\n",
              "  'in object-oriented programming, inheritance is a way to form new classes (instances of which are called objects) using classes that have already been defined. the inheritance concept was invented in for simula. the new classes, known as derived classes, take over (or inherit) attributes and behavior of the pre-existing classes, which are referred to as base classes (or ancestor classes). it is intended to help reuse existing code with little or no modification. inheritance provides the support for representation by categorization in computer languages. categorization is a powerful mechanism number of information processing, crucial to human learning by means of generalization (what is known about specific entities is applied to a wider group given a belongs relation can be established) and cognitive economy (less information needs to be stored about each specific entity, only its particularities). inheritance is also sometimes called generalization, because the is-a relationships represent a hierarchy between classes of objects. for instance, a \"fruit\" is a generalization of \"apple\", \"orange\", \"mango\" and many others. one can consider fruit to be an abstraction of apple, orange, etc. conversely, since apples are fruit (i.e., an apple is-a fruit), apples may naturally inherit all the properties common to all fruit, such as being a fleshy container for the seed of a plant. an advantage of inheritance is that modules with sufficiently similar interfaces can share a lot of code, reducing the complexity of the program. inheritance therefore has another view, a dual, called polymorphism, which describes many pieces of code being controlled by shared control code. inheritance is typically accomplished either by overriding (replacing) one or more methods exposed by ancestor, or by adding new methods to those exposed by an ancestor. complex inheritance, or inheritance used within a design that is not sufficiently mature, may lead to the yo-yo problem.',\n",
              "  ' in object-oriented programming, inheritance is a way of creating new classes (of which instances are referred to as objects) using classes that have already been defined. the concept of inheritance was invented for simula in . new classes, called descendant classes, inherit (or inherit) the attributes and behavior of existing classes called base classes (or ancestral classes). it is designed to reuse existing code with or without minor changes. inheritance provides representation support through categorization in computer languages. categorization is a powerful information handling mechanism that works for human learning through generalization (what is known about certain objects is applied to a broader group if a membership can be made) and cognitive economy (less information needs to be stored) about each particular entity is critical. only its properties). inheritance is sometimes referred to as generalization because the relationship is a hierarchy between object classes. for example, \"fruit\" is a generalization of the words \"apple\", \"orange\", \"mango\" and many others. fruit can be thought of as an abstraction from apple, orange, etc. of course, since apples are fruit (that is, an apple is a fruit), apples can inherit all of the properties common to all fruits, such as: b. a meaty container. for plant seeds. the advantage of inheritance is that modules with fairly similar interfaces can share a large amount of code, which reduces the complexity of the program. so imitation has a different concept, a double one, called polymorphism, which describes many code fragments that are controlled by a common control code. inheritance is usually done either by redefining (replacing) one or more ancestral methods or by adding new methods to the ancestral methods. complex inheritance, or inheritance used in an immature design, can create a yo-yo problem. '),\n",
              " ('99.99%',\n",
              "  'plagiarism',\n",
              "  ' functional programming (often abbreviated fp) is the process of building software by composing pure functions, avoiding shared state, mutable data, and side-effects. functional programming is declarative rather than imperative, and application state flows through pure functions. contrast with object oriented programming, where application state is usually shared and colocated with methods in objects. functional programming is a programming paradigm, meaning that it is a way of thinking about software construction based on some fundamental, defining principles (listed above). ',\n",
              "  ' functional programming is a programming paradigm, that allows to develop software by composing functions, keeping away from shared state, mutable data and side-effects. in functional programming application state goes through pure functions. this paradigm is opposite to applications that were built using the object oriented programming. state in those applications is often shared and compiled with methods in objects. functional programming is rather a way of thinking about developing software based on fundamental rules. '),\n",
              " ('99.08%',\n",
              "  'plagiarism',\n",
              "  ' a manager is a person who is responsible for a part of a company, i.e., they ‘manage‘ the company. managers may be in charge of a department and the people who work in it. in some cases, the manager is in charge of the whole business. the manager’s duties also include managing employees or a section of the company on a day-to-day basis. ',\n",
              "  ' a manager is a person responsible for controlling or administering an organization or group of staff. managers could be responsible for a part of the company and the employers who work there. sometimes the manager is a head of the whole company. reponsibilities of the manager include control workers or lead a part of the company too. '),\n",
              " ('99.08%',\n",
              "  'plagiarism',\n",
              "  ' a manager is a person who is responsible for a part of a company, i.e., they ‘manage‘ the company. managers may be in charge of a department and the people who work in it. in some cases, the manager is in charge of the whole business. the manager’s duties also include managing employees or a section of the company on a day-to-day basis. for example, a restaurant manager is in charge of the whole restaurant. ',\n",
              "  ' a manager is a person responsible for controlling or administering an organization or group of staff. managers could be responsible for a part of the company and the employers who work there. sometimes the manager is a head of the whole company. reponsibilities of the manager include control workers or lead a part of the company too. for instance, a store manager is responsible for the whole store. '),\n",
              " ('97.67%',\n",
              "  'plagiarism',\n",
              "  ' in mathematics and statistics, the arithmetic mean, or simply the mean or the average (when the context is clear), is the sum of a collection of numbers divided by the count of numbers in the collection. ',\n",
              "  ' арифметичне середнє (в математиці і статистиці) — сума всіх фіксованих значень набору, поділена на кількість елементів набору '),\n",
              " ('0.01%',\n",
              "  'non',\n",
              "  ' тарас григорович шевченко (відомии також як кобзар; лютого ( березня) , с. моринці, киівська губернія, росіиська імперія (нині звенигородськии раион, черкаська область, украіна) — лютого ( березня) , санкт-петербург, росіиська імперія) — украінськии письменник, класик украінськоі літератури, мислитель, художник. національнии герои і символ украіни. ',\n",
              "  ' franklin delano roosevelt (/ˈroʊzəvəlt/,[] /-vɛlt/[] roh-zə-velt; january , – april , ), often referred to by his initials fdr, was an american politician who was the nd president of the united states from until his death in . a member of the democratic party, he won a record four presidential elections and became a central figure in world events during the first half of the th century. ')]"
            ]
          },
          "metadata": {
            "tags": []
          },
          "execution_count": 23
        }
      ]
    },
    {
      "cell_type": "code",
      "metadata": {
        "id": "ez3aVQ55zoAc"
      },
      "source": [
        ""
      ],
      "execution_count": null,
      "outputs": []
    }
  ]
}